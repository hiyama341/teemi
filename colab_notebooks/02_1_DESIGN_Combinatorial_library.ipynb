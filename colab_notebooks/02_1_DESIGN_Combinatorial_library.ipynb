{
 "cells": [
  {
   "cell_type": "code",
   "execution_count": 136,
   "metadata": {
    "colab": {
     "base_uri": "https://localhost:8080/"
    },
    "id": "NynYf9M_xlgy",
    "outputId": "ef722411-78dd-4760-873b-6d5f8ba4f001"
   },
   "outputs": [],
   "source": [
    "%%capture\n",
    "!pip install pydna\n",
    "!pip install Bio\n",
    "!pip install teemi\n",
    "!pip install pyqt5\n",
    "!pip install dnaplotlib"
   ]
  },
  {
   "cell_type": "code",
   "execution_count": 137,
   "metadata": {
    "id": "39a192ea-7f27-4102-9aec-1d47072a83c5"
   },
   "outputs": [],
   "source": [
    "import pandas as pd\n",
    "from pydna.dseqrecord import Dseqrecord\n",
    "from IPython import display\n",
    "\n",
    "# to show assemblies\n",
    "from pydna.assembly import Assembly\n",
    "\n",
    "# Show pictures\n",
    "import IPython.core.display\n",
    "\n",
    "# For making the genetic construct figure \n",
    "import dnaplotlib\n",
    "import matplotlib.pyplot as plt\n",
    "from matplotlib import gridspec"
   ]
  },
  {
   "attachments": {},
   "cell_type": "markdown",
   "metadata": {
    "id": "xXe0GGWg7NAB"
   },
   "source": [
    "Sometimes the dependencies doesen't work at first but by running the cell above twice, it is possible to run the notebook. "
   ]
  },
  {
   "attachments": {},
   "cell_type": "markdown",
   "metadata": {},
   "source": [
    "# 02_1_DESIGN_Combinatorial_library"
   ]
  },
  {
   "attachments": {},
   "cell_type": "markdown",
   "metadata": {
    "colab_type": "text",
    "id": "view-in-github"
   },
   "source": [
    "<a target=\"_blank\" href=\"https://colab.research.google.com/github/hiyama341/teemi/blob/main/colab_notebooks/02_1_DESIGN_Combinatorial_library.ipynb\">\n",
    "  <img src=\"https://colab.research.google.com/assets/colab-badge.svg\" alt=\"Open In Colab\"/>\n",
    "</a>"
   ]
  },
  {
   "cell_type": "code",
   "execution_count": 138,
   "metadata": {
    "colab": {
     "base_uri": "https://localhost:8080/"
    },
    "id": "ywfHkGH61TVp",
    "outputId": "1e29e88c-2649-4558-b0e8-021a2646a7fe"
   },
   "outputs": [
    {
     "name": "stdout",
     "output_type": "stream",
     "text": [
      "fatal: destination path 'G8H_CPR_library' already exists and is not an empty directory.\n"
     ]
    }
   ],
   "source": [
    "!git clone https://github.com/hiyama341/G8H_CPR_library.git"
   ]
  },
  {
   "attachments": {},
   "cell_type": "markdown",
   "metadata": {
    "id": "0fbf25e9-7e47-4a32-bdde-dc833fc95576",
    "tags": []
   },
   "source": [
    "## 1. Intro"
   ]
  },
  {
   "attachments": {},
   "cell_type": "markdown",
   "metadata": {
    "id": "b58dde13-da21-4f91-abec-d11c1722b5c1"
   },
   "source": [
    "Up until now, the previous notebooks have enabled us to retrieve DNA sequences for the construction of combinatorial libraries. There are plenty of good reasons to make combinatorial libraries which I will not go into detail about here but for more information read **\"Combinatorial pathway optimization for streamlined metabolic engineering\"** by Jeschek et al 2017. The focus of this notebook is to show how combinatorial libraries can be made with a literate programming approach.  \n",
    "\n",
    "**The general method to accomblish this is as follows:**\n",
    "\n",
    "1. Retrieve sequences of interest, along with names\n",
    "2. Make amplicons from sequences consisting of primers and their annealing temperatures\n",
    "3. Generate combinatorial lists of all possible combinations\n",
    "4. If a pad is wanted, add the pad at a chosen location in each list\n",
    "5. Assemble contigs by making overlapping primers between each amplicon\n",
    "6. Save all primers\n",
    "7. Primers containing the same sequences are updated to have the same names ( happens quite frequently with homologs)\n",
    "8. Unique primers are saved\n",
    "9. Unique amplicons are saved\n",
    "\n",
    "\n",
    "Last part of this notebook includes how robot instructions can be made from the DesignAssembly object or from predefined plates. \n",
    "\n",
    "**Contents of this notebook:**\n",
    "    \n",
    "1. Fetching data from FASTA files\n",
    "2. Generating a combinatorial library for the G8H bottleneck both with Teselagens software and with in-house software.\n",
    "3. Generating Robot excecutable intructions with focus on FLOWBOT instruction"
   ]
  },
  {
   "attachments": {},
   "cell_type": "markdown",
   "metadata": {
    "id": "e27a8705-41bf-4c90-830d-0fc8e5c56988",
    "tags": []
   },
   "source": [
    "## 1.1 Data aquisition and processing\n",
    "Previously I found homologs and promoters to have the neccessary parts to build a combinatorial library. These parts can be fetched from databases such as benchling or Teselagen but for ease of use it shown with fasta files here. These files are read and made into Biopython objects that that can be used for the genetic constructs. \n",
    "\n",
    "To build a combinatorial library from the generated promoters and homologs some of them need to be reversed. Namely, the upstream part from the pad which we can easily do with a simple Python trick (see below). "
   ]
  },
  {
   "cell_type": "code",
   "execution_count": 139,
   "metadata": {},
   "outputs": [],
   "source": [
    "from teemi.design.fetch_sequences import read_genbank_files, read_fasta_files"
   ]
  },
  {
   "cell_type": "code",
   "execution_count": 140,
   "metadata": {},
   "outputs": [],
   "source": [
    "path = 'G8H_CPR_library/data/04-genetic_parts/G8H_CYP_CPR_PARTS/'\n",
    "CPR_sites = read_genbank_files(path+'CPR_tCYC1_-_2022-06-06.gb')\n",
    "pCPR_sites = read_genbank_files(path+'CPR_promoters_-_2022-06-06.gb')\n",
    "\n",
    "CYP_sites = read_genbank_files(path+'G8H_tADH1_-_2022-06-06.gb')\n",
    "pCYP_sites = read_genbank_files(path+'G8H_promoters_-_2022-06-06.gb')"
   ]
  },
  {
   "cell_type": "code",
   "execution_count": 141,
   "metadata": {},
   "outputs": [],
   "source": [
    "# we have to reverse the sequences here bc we want to have bi-directional primers\n",
    "for seq in CYP_sites: \n",
    "    seq.seq = seq.seq[::-1]\n",
    "    \n",
    "for seq in pCYP_sites: \n",
    "    seq.seq = seq.seq[::-1]"
   ]
  },
  {
   "cell_type": "code",
   "execution_count": 142,
   "metadata": {},
   "outputs": [
    {
     "data": {
      "text/plain": [
       "[SeqRecord(seq=Seq('AAATAATTAAATCACACACATAAACACAAACACACAGATATCTTCATATCATTA...CAA'), id='pCYC1', name='pCYC1', description='', dbxrefs=[]),\n",
       " SeqRecord(seq=Seq('AAATAATAACATACAATATCATAATCAACGAACCACAATACTTTCTTTGATTCT...AAA'), id='pENO2', name='pENO2', description='', dbxrefs=[]),\n",
       " SeqRecord(seq=Seq('AACAACAATAAAATAATACCTTATTAATCAACGCACTCAAACCAAAAAAAAAAA...CAA'), id='pPCK1', name='pPCK1', description='', dbxrefs=[]),\n",
       " SeqRecord(seq=Seq('AAACGAACACACCATCCATTAAACACTGACAGAAATGCCATCGAAAGCGGCTAA...GAA'), id='pRPL15B', name='pRPL15B', description='', dbxrefs=[])]"
      ]
     },
     "execution_count": 142,
     "metadata": {},
     "output_type": "execute_result"
    }
   ],
   "source": [
    "pCYP_sites"
   ]
  },
  {
   "attachments": {},
   "cell_type": "markdown",
   "metadata": {
    "id": "7df2ad69-e271-4aed-8031-43100bb71772"
   },
   "source": [
    "Lets check that the information is read in, correctly and that the right amount of constructs are there and no mistakes have been made. "
   ]
  },
  {
   "cell_type": "code",
   "execution_count": 143,
   "metadata": {
    "colab": {
     "base_uri": "https://localhost:8080/"
    },
    "id": "606eef53-28ea-4fe2-aedd-7d38848184a4",
    "outputId": "659dbaa4-da27-4478-c110-7d2037caedd4"
   },
   "outputs": [
    {
     "name": "stdout",
     "output_type": "stream",
     "text": [
      "ID: pL_01_C7\\(pRS415-USER).0\n",
      "Name: AhuCPR_tCYC1\n",
      "Number of features: 2\n",
      "/molecule_type=ds-DNA\n",
      "/topology=linear\n",
      "/data_file_division=   \n",
      "/date=13-DEC-2020\n",
      "/accessions=['pL_01_C7\\\\(pRS415-USER)']\n",
      "/sequence_version=0\n",
      "/keywords=['\"Antibiotic resistance\" \"Backbones\" \"Cloning sites\" \"Comment\" \"DNA fragments\" \"Design entry\" \"Genes:AmpR\" \"LabCollector ID\" \"Markers\" \"Origin of replication:CEN6 ARS4\" \"Parent plasmids\" \"Promoters:Bla promoter\" \"Protein\" \"RBS\" \"Responsible person/group\" \"Spacers\" \"Status\" \"Tags\" \"Terminators\" \"Usage\" \"gRNAs\"']\n",
      "Seq('ATGGACTCCTCATCGGAGAAGCTTTCCCCGTTCGACTTAATGACGGCAATCCTA...GAA')\n"
     ]
    }
   ],
   "source": [
    "print(CPR_sites[0])"
   ]
  },
  {
   "cell_type": "code",
   "execution_count": 144,
   "metadata": {
    "colab": {
     "base_uri": "https://localhost:8080/"
    },
    "id": "beb12ed4-b734-4734-a8dd-c97ad8e41a3f",
    "outputId": "7845e05d-a3e0-4f55-a51c-05e32dcb97b7"
   },
   "outputs": [
    {
     "name": "stdout",
     "output_type": "stream",
     "text": [
      "4\n",
      "10\n",
      "8\n",
      "4\n",
      "Total combinations 1280\n"
     ]
    }
   ],
   "source": [
    "print(len(pCPR_sites))\n",
    "print(len(CPR_sites))\n",
    "print(len(CYP_sites))\n",
    "print(len(pCYP_sites))\n",
    "\n",
    "print('Total combinations', len(CPR_sites)*len(pCPR_sites)*len(pCYP_sites)*len(CYP_sites))"
   ]
  },
  {
   "attachments": {},
   "cell_type": "markdown",
   "metadata": {
    "id": "59358907-37e7-4d02-9208-76ec57dd4184"
   },
   "source": [
    "Now lets fetch the up/down sites of XI-2 and the Trp marker. "
   ]
  },
  {
   "cell_type": "code",
   "execution_count": 145,
   "metadata": {},
   "outputs": [],
   "source": [
    "UP_DW_marker = read_fasta_files(path+'UP_DW_Marker.fasta')"
   ]
  },
  {
   "cell_type": "code",
   "execution_count": 146,
   "metadata": {
    "id": "cd06e65d-c03b-4529-b253-c8eeedcc4af0"
   },
   "outputs": [],
   "source": [
    "UP_sites = UP_DW_marker[0]\n",
    "DW_sites = UP_DW_marker[1]\n",
    "marker_sites = UP_DW_marker[2]"
   ]
  },
  {
   "attachments": {},
   "cell_type": "markdown",
   "metadata": {
    "id": "24f734f4-1d52-4da1-980c-45d40314a574"
   },
   "source": [
    "Now the terminators ADH1 and CYC1"
   ]
  },
  {
   "attachments": {},
   "cell_type": "markdown",
   "metadata": {
    "id": "fdfde947-3720-43fd-bfc5-3bd33cc9cb10"
   },
   "source": [
    "Now, the sequences needs to be made into Dseqrecord elements to make it into a DesignAssembly class. The names for these objects also need to be retrieved. "
   ]
  },
  {
   "cell_type": "code",
   "execution_count": 147,
   "metadata": {
    "id": "fd3c2726-26ab-4f7a-b945-0147557155f0"
   },
   "outputs": [],
   "source": [
    "#Getting the objects names\n",
    "UP_sites_names = [UP_sites.name]\n",
    "G8H_templates_names = [names.name for names in CYP_sites]\n",
    "pG8H_templates_names = [names.name for names in pCYP_sites]\n",
    "pG8H_CPR_templates_names = [names.name for names in pCPR_sites]\n",
    "G8H_CPR_templates_names = [names.name for names in CPR_sites]\n",
    "marker_templates_names = [marker_sites.name]\n",
    "DW_sites_names = [DW_sites.name]\n",
    "\n",
    "# Getting their sequences\n",
    "UP_sites_seqrecord = [Dseqrecord(UP_sites) ]\n",
    "G8H_templates_seqrecord = [Dseqrecord(seq) for seq in CYP_sites]\n",
    "pG8H_templates_seqrecord = [Dseqrecord(seq) for seq in pCYP_sites]\n",
    "pCPR_templates_seqrecord = [Dseqrecord(seq) for seq in pCPR_sites]\n",
    "G8H_CPR_templates_seqrecord = [Dseqrecord(seq) for seq in CPR_sites]\n",
    "marker_templates_seqrecord = [Dseqrecord(marker_sites) ]\n",
    "DW_sites_seqrecord = [Dseqrecord(DW_sites)]"
   ]
  },
  {
   "cell_type": "code",
   "execution_count": 148,
   "metadata": {
    "colab": {
     "base_uri": "https://localhost:8080/"
    },
    "id": "f868be07-695e-4cca-900c-3d2bda90f5b6",
    "outputId": "90a9a728-b8d0-44f5-d355-f64185f045a9"
   },
   "outputs": [
    {
     "data": {
      "text/plain": [
       "[Dseqrecord(-1803),\n",
       " Dseqrecord(-1695),\n",
       " Dseqrecord(-1860),\n",
       " Dseqrecord(-1827),\n",
       " Dseqrecord(-1803),\n",
       " Dseqrecord(-1809),\n",
       " Dseqrecord(-1803),\n",
       " Dseqrecord(-1803)]"
      ]
     },
     "execution_count": 148,
     "metadata": {},
     "output_type": "execute_result"
    }
   ],
   "source": [
    "G8H_templates_seqrecord"
   ]
  },
  {
   "attachments": {},
   "cell_type": "markdown",
   "metadata": {},
   "source": [
    "### Making a figure of the genetic construct"
   ]
  },
  {
   "cell_type": "code",
   "execution_count": 149,
   "metadata": {
    "jupyter": {
     "source_hidden": true
    },
    "tags": []
   },
   "outputs": [],
   "source": [
    "pG8H = {'name':'P_G8H', 'start':-1, 'end':-10, 'type':'Promoter', 'opts': {'color':[0.00,0.00,0.00]}}\n",
    "G8H = {'name':'G8H-homologs', 'start':-21, 'end':-40, 'type':'CDS', 'opts':{'label': 'G8H-homologs', 'fontsize': 8,  'label_y_offset': 0, 'label_x_offset': 0, 'label_style':'italic', 'color':[0.65,0.81,0.89]}} # 0.65,0.81,0.89\n",
    "t_adh1 = {'name':'T_ADH1', 'start':-41, 'end':-55, 'type':'Terminator'}\n",
    "up = {'name':'Up', 'start':-41, 'end':-55, 'type':'Scar', 'opts':{'label': 'up',  'label_y_offset': 0, 'label_x_offset': 0,  'color':[0.60,0.60,0.60]}}\n",
    "\n",
    "\n",
    "pCPR = {'name':'P_CPR', 'start':56, 'end':65, 'type':'Promoter', 'opts': {'color':[0.00,0.00,0.00]}}\n",
    "CPR = {'name':'CPR-homologs', 'start':76, 'end':95, 'type':'CDS', 'opts':{'label': 'CPR-homologs', 'fontsize': 8,  'label_y_offset': 0, 'label_x_offset': -2, 'label_style':'italic', 'color':[1.00,0.85,0.20]}} # 0.79,0.70,0.84\n",
    "t_cyc1 = {'name':'T_CYC1', 'start':96, 'end':110, 'type':'Terminator'}\n",
    "dw = {'name':'dw', 'start':-41, 'end':-55, 'type':'Scar', 'opts':{'label': 'dw',  'label_y_offset': 0, 'label_x_offset': 0,  'color':[0.60,0.60,0.60]}}"
   ]
  },
  {
   "attachments": {},
   "cell_type": "markdown",
   "metadata": {
    "id": "677f4cf4-98a2-4c01-8540-67c4c5e76413"
   },
   "source": [
    "Now, for making the G8H de-bottlenecking construct. This can be achieved by following the scheme below and adding the genetic parts into lists that will be put into: 1) list of sequences 2) a list of names (final product - list of list)"
   ]
  },
  {
   "cell_type": "code",
   "execution_count": 150,
   "metadata": {
    "jupyter": {
     "source_hidden": true
    },
    "tags": []
   },
   "outputs": [
    {
     "data": {
      "image/png": "[encoded data removed]",
      "text/plain": [
       "<IPython.core.display.Image object>"
      ]
     },
     "execution_count": 150,
     "metadata": {
      "image/png": {
       "width": 2000
      }
     },
     "output_type": "execute_result"
    }
   ],
   "source": [
    "plt.figure(figsize=(10, 3),dpi=300)\n",
    "gs = gridspec.GridSpec(1, 1)\n",
    "\n",
    "# Plot G8H construct\n",
    "ax = plt.subplot(gs[0])\n",
    "dnaplotlib.plot_sbol_designs([ax], [[up, t_adh1, G8H,pG8H, pCPR,  CPR, t_cyc1, dw]])\n",
    "\n",
    "#### Plot text\n",
    "# terminators\n",
    "plt.text(11,-15, 'T_ADH1', ha='left', rotation=0, wrap=True,  size = 5,\n",
    "         # adds box\n",
    "        bbox=dict(boxstyle=\"round\",facecolor='white'))\n",
    "plt.text(124,15, 'T_CYC1', ha='right', rotation=0, wrap=True,  size = 5,\n",
    "         # adds box\n",
    "        bbox=dict(boxstyle=\"round\",facecolor='white'))\n",
    "\n",
    "# promoters\n",
    "plt.text(57,-25, ' pCYC1 \\n pENO2 \\n pPCK1 \\n pRPL15B', ha='left', rotation=0, wrap=True,  size = 5,\n",
    "        bbox=dict(boxstyle=\"round\",facecolor='#74c476'))\n",
    "plt.text(70,15, ' pMLS1 \\n pTPI1 \\n pURE2 \\n pCCW12', ha='left', rotation=0, wrap=True,  size = 5,\n",
    "         # adds box\n",
    "        bbox=dict(boxstyle=\"round\",facecolor='#fd8d3c'))\n",
    "\n",
    "\n",
    "# homologs\n",
    "plt.text(35,10, ' CroG8H \\n CcalG8H \\n OpumG8H \\n CacuG8H \\n RsepG8H \\n SmusG8H \\n VminG8H \\n OeuG8H \\n SmusG8H', ha='left', rotation=0, wrap=True,  size = 5, \n",
    "        # adds box\n",
    "        bbox=dict(boxstyle=\"round\",facecolor='#a6cfe3'))\n",
    "\n",
    "plt.text(90,10, ' AhuCPR \\n AanCPR \\n CloCPR \\n CacCPR \\n AniCPR \\n CpoCPR \\n OeuCPR \\n RseCPR \\n AthATR1 \\n CroCPR', ha='left', rotation=0, wrap=True,  size = 5, \n",
    "        # adds box\n",
    "        bbox=dict(boxstyle=\"round\",facecolor='#ffd933'))\n",
    "\n",
    "\n",
    "name = 'Genetic construct w dnaplotlib'\n",
    "#plt.savefig('G8H_CPR_library/Data/Plots_for_publication/'+name+'.pdf',format = 'pdf',  dpi = 300)\n",
    "plt.savefig('G8H_CPR_library/data/10-plots/02_1_Combinatorial_library/'+name+'.png',format = 'png',  dpi = 300)\n",
    "plt.savefig('G8H_CPR_library/data/10-plots/02_1_Combinatorial_library/'+name+'.pdf',format = 'pdf',  dpi = 300)\n",
    "\n",
    "IPython.core.display.Image('G8H_CPR_library/data/10-plots/02_1_Combinatorial_library/Genetic construct w dnaplotlib.png', width=2000)"
   ]
  },
  {
   "cell_type": "code",
   "execution_count": 151,
   "metadata": {
    "colab": {
     "base_uri": "https://localhost:8080/"
    },
    "id": "a16fe185-5e29-4669-a22a-ec29a46b20ec",
    "outputId": "501ec7ea-c3cc-48e1-d7b0-ec79e7eac254"
   },
   "outputs": [
    {
     "name": "stdout",
     "output_type": "stream",
     "text": [
      "The lengths are the same\n"
     ]
    }
   ],
   "source": [
    "list_of_seqs = [UP_sites_seqrecord, G8H_templates_seqrecord, pG8H_templates_seqrecord, pCPR_templates_seqrecord, G8H_CPR_templates_seqrecord, marker_templates_seqrecord, DW_sites_seqrecord]\n",
    "\n",
    "list_of_names = [UP_sites_names,G8H_templates_names, pG8H_templates_names, pG8H_CPR_templates_names, G8H_CPR_templates_names, marker_templates_names, DW_sites_names]\n",
    "\n",
    "# Check that the lists are the same lenght\n",
    "if len(list_of_seqs) != len(list_of_names): \n",
    "    print('!!!!!!!!!!!!!!!!!The lengths are not the same, check the sequences!!!!!!!!!!!!!!!!!!')\n",
    "else: \n",
    "    print('The lengths are the same')"
   ]
  },
  {
   "attachments": {},
   "cell_type": "markdown",
   "metadata": {
    "id": "34b3e348-fae8-494f-a1b0-b602e8a7683f"
   },
   "source": [
    "Now it's a good idea at this point to make sure that all the objects have been made into Dseqrecords and that they have the right size and configuration.  "
   ]
  },
  {
   "cell_type": "code",
   "execution_count": 152,
   "metadata": {
    "colab": {
     "base_uri": "https://localhost:8080/"
    },
    "id": "23154817-3c4f-407c-ac23-b2e34f16853e",
    "outputId": "838d88b5-5929-49a1-fbce-025da17d7243"
   },
   "outputs": [
    {
     "data": {
      "text/plain": [
       "'UP_XI-2'"
      ]
     },
     "execution_count": 152,
     "metadata": {},
     "output_type": "execute_result"
    }
   ],
   "source": [
    "list_of_seqs[0][0].name"
   ]
  },
  {
   "cell_type": "code",
   "execution_count": 153,
   "metadata": {
    "colab": {
     "base_uri": "https://localhost:8080/"
    },
    "id": "9d7a09a8-9b97-467a-9b6d-ba7e901fbd76",
    "outputId": "cb06a152-3df8-4b7d-d0e6-48d667790400"
   },
   "outputs": [
    {
     "data": {
      "text/plain": [
       "[['UP_XI-2'],\n",
       " ['CcalG8H_tADH1',\n",
       "  'CroG8H_tADH1',\n",
       "  'OpumG8H_tADH1',\n",
       "  'CacuG8H_tADH1',\n",
       "  'RsepG8H_tADH1',\n",
       "  'SmusG8H_tADH1',\n",
       "  'VminG8H_tADH1',\n",
       "  'OeuG8H_tADH1'],\n",
       " ['pCYC1', 'pENO2', 'pPCK1', 'pRPL15B'],\n",
       " ['pMLS1', 'pTPI1', 'pURE2', 'pCCW12'],\n",
       " ['AhuCPR_tCYC1',\n",
       "  'AanCPR_tCYC1',\n",
       "  'CloCPR_tCYC1',\n",
       "  'CacCPR_tCYC1',\n",
       "  'AniCPR_tCYC1',\n",
       "  'CpoCPR_tCYC1',\n",
       "  'OeuCPR_tCYC1',\n",
       "  'RseCPR_tCYC1',\n",
       "  'AthATR1_tCYC1',\n",
       "  'CroCPR_tCYC1'],\n",
       " ['seq_3HMRtcpy'],\n",
       " ['DW_XI-2']]"
      ]
     },
     "execution_count": 153,
     "metadata": {},
     "output_type": "execute_result"
    }
   ],
   "source": [
    "list_of_names"
   ]
  },
  {
   "attachments": {},
   "cell_type": "markdown",
   "metadata": {
    "id": "7261f023-bf90-47e6-99ec-aa747d816fb2",
    "jp-MarkdownHeadingCollapsed": true,
    "tags": []
   },
   "source": [
    "### Things to look out for when running DesignAssembly. \n",
    "\n",
    "1. if the melting temperature is set too low it will make a warning saying that PCR_prod is not unique. It helps to raise the melting temperature if that happens so it can make longer and unique primers "
   ]
  },
  {
   "attachments": {},
   "cell_type": "markdown",
   "metadata": {
    "id": "72db247a-ddf8-493d-b098-a2bd2ddcfa7f",
    "tags": []
   },
   "source": [
    "# 2. Generating the combinatorial library \n",
    "\n",
    "### Initiating the DesignAssembly class:"
   ]
  },
  {
   "attachments": {},
   "cell_type": "markdown",
   "metadata": {
    "id": "96d04b6e-83bc-4bb8-bdc3-e56fbe9dfc78"
   },
   "source": [
    "Before we initiate the designAssembly object we can define and add a piece of DNA that can be used for easier genotyping and contain a crRNA so we can delete the genetic module if we need to. Below, a pad consisting of a ATF1 CRISPR Guide RNA flanked by arbitrary sequences is inititalized as a pad  "
   ]
  },
  {
   "cell_type": "code",
   "execution_count": 154,
   "metadata": {
    "colab": {
     "base_uri": "https://localhost:8080/"
    },
    "id": "617a21da-a42d-49b1-8f58-f9d4bf2fc556",
    "outputId": "28b6c3a2-9c89-4cda-f049-c3c7daae6dbb"
   },
   "outputs": [
    {
     "data": {
      "text/plain": [
       "Dseqrecord(-30)"
      ]
     },
     "execution_count": 154,
     "metadata": {},
     "output_type": "execute_result"
    }
   ],
   "source": [
    "# ATF1_CRISPR_Guide_RNA = 'CTATGCTGTCGGATGAGTCC'   = dummy seq : GTATAGGACGCTATGCTGTCGGATGAGTCCCGTAGAATGA\n",
    "pad = Dseqrecord('GGACGCTATGCTGTCGGATGAGTCCCGTAG')\n",
    "pad"
   ]
  },
  {
   "attachments": {},
   "cell_type": "markdown",
   "metadata": {
    "id": "e5e86718-5d59-4af0-8dfa-26adb8c78ec7"
   },
   "source": [
    "We simply initiate the class by calling it with the list of sequences, their names, the pad, and the position of the pad. \n",
    "This normally takes about 20 sec. "
   ]
  },
  {
   "cell_type": "code",
   "execution_count": 155,
   "metadata": {
    "id": "mFACR1Gi9qmh"
   },
   "outputs": [],
   "source": [
    "from teemi.design.combinatorial_design import DesignAssembly"
   ]
  },
  {
   "cell_type": "code",
   "execution_count": 156,
   "metadata": {
    "colab": {
     "base_uri": "https://localhost:8080/"
    },
    "id": "6c9117c7-7a00-450f-b603-71ab3d1b1972",
    "outputId": "0c0950c5-38b6-4fd3-9023-88c57d3c62a4"
   },
   "outputs": [
    {
     "name": "stdout",
     "output_type": "stream",
     "text": [
      "CPU times: user 13.2 s, sys: 259 ms, total: 13.4 s\n",
      "Wall time: 13.5 s\n"
     ]
    }
   ],
   "source": [
    "%%time\n",
    "G8H_assembly = DesignAssembly(list_of_seqs, pad , 4, overlap=40, target_tm = 55 )"
   ]
  },
  {
   "attachments": {},
   "cell_type": "markdown",
   "metadata": {
    "id": "5b6f03e3-f047-4835-91ef-6269fe36f29e"
   },
   "source": [
    "The DesignAssembly class have class methods attached to it. These include displaying primers, the PCRs that needs to made and a graphical representation of the construts. "
   ]
  },
  {
   "attachments": {},
   "cell_type": "markdown",
   "metadata": {
    "id": "8c961ea8-bdb6-45ab-a674-60d847b011e5",
    "tags": []
   },
   "source": [
    "The methods are as follows: \n",
    "\n",
    "- show_contigs\n",
    "- show_variants_lib_df\n",
    "- PCR_list_to_dataframe\n",
    "\n",
    "- Primer_list_to_dataframe\n",
    "- print_primer_list\n",
    "- G8H_assembly "
   ]
  },
  {
   "attachments": {},
   "cell_type": "markdown",
   "metadata": {
    "id": "6883a690-1070-4077-ad3a-d447305854c0"
   },
   "source": [
    "Here it is shown how a dataframe with all the variants are generated:"
   ]
  },
  {
   "cell_type": "code",
   "execution_count": 157,
   "metadata": {
    "colab": {
     "base_uri": "https://localhost:8080/",
     "height": 424
    },
    "id": "de260e50-83bb-423c-af7f-7c8cf11165a3",
    "outputId": "f173de93-f239-4ca2-9f96-fd984d9a7344"
   },
   "outputs": [
    {
     "data": {
      "text/html": [
       "<div>\n",
       "<style scoped>\n",
       "    .dataframe tbody tr th:only-of-type {\n",
       "        vertical-align: middle;\n",
       "    }\n",
       "\n",
       "    .dataframe tbody tr th {\n",
       "        vertical-align: top;\n",
       "    }\n",
       "\n",
       "    .dataframe thead th {\n",
       "        text-align: right;\n",
       "    }\n",
       "</style>\n",
       "<table border=\"1\" class=\"dataframe\">\n",
       "  <thead>\n",
       "    <tr style=\"text-align: right;\">\n",
       "      <th></th>\n",
       "      <th>0</th>\n",
       "      <th>1</th>\n",
       "      <th>2</th>\n",
       "      <th>3</th>\n",
       "      <th>4</th>\n",
       "      <th>5</th>\n",
       "      <th>6</th>\n",
       "      <th>Systematic_name</th>\n",
       "      <th>Variant</th>\n",
       "    </tr>\n",
       "  </thead>\n",
       "  <tbody>\n",
       "    <tr>\n",
       "      <th>0</th>\n",
       "      <td>UP_XI-2</td>\n",
       "      <td>CcalG8H_tADH1</td>\n",
       "      <td>pCYC1</td>\n",
       "      <td>pMLS1</td>\n",
       "      <td>AhuCPR_tCYC1</td>\n",
       "      <td>seq_3HMRtcpy</td>\n",
       "      <td>DW_XI-2</td>\n",
       "      <td>(1, 1, 1, 1, 1, 1, 1)</td>\n",
       "      <td>0</td>\n",
       "    </tr>\n",
       "    <tr>\n",
       "      <th>1</th>\n",
       "      <td>UP_XI-2</td>\n",
       "      <td>CcalG8H_tADH1</td>\n",
       "      <td>pCYC1</td>\n",
       "      <td>pMLS1</td>\n",
       "      <td>AanCPR_tCYC1</td>\n",
       "      <td>seq_3HMRtcpy</td>\n",
       "      <td>DW_XI-2</td>\n",
       "      <td>(1, 1, 1, 1, 2, 1, 1)</td>\n",
       "      <td>1</td>\n",
       "    </tr>\n",
       "    <tr>\n",
       "      <th>2</th>\n",
       "      <td>UP_XI-2</td>\n",
       "      <td>CcalG8H_tADH1</td>\n",
       "      <td>pCYC1</td>\n",
       "      <td>pMLS1</td>\n",
       "      <td>CloCPR_tCYC1</td>\n",
       "      <td>seq_3HMRtcpy</td>\n",
       "      <td>DW_XI-2</td>\n",
       "      <td>(1, 1, 1, 1, 3, 1, 1)</td>\n",
       "      <td>2</td>\n",
       "    </tr>\n",
       "    <tr>\n",
       "      <th>3</th>\n",
       "      <td>UP_XI-2</td>\n",
       "      <td>CcalG8H_tADH1</td>\n",
       "      <td>pCYC1</td>\n",
       "      <td>pMLS1</td>\n",
       "      <td>CacCPR_tCYC1</td>\n",
       "      <td>seq_3HMRtcpy</td>\n",
       "      <td>DW_XI-2</td>\n",
       "      <td>(1, 1, 1, 1, 4, 1, 1)</td>\n",
       "      <td>3</td>\n",
       "    </tr>\n",
       "    <tr>\n",
       "      <th>4</th>\n",
       "      <td>UP_XI-2</td>\n",
       "      <td>CcalG8H_tADH1</td>\n",
       "      <td>pCYC1</td>\n",
       "      <td>pMLS1</td>\n",
       "      <td>AniCPR_tCYC1</td>\n",
       "      <td>seq_3HMRtcpy</td>\n",
       "      <td>DW_XI-2</td>\n",
       "      <td>(1, 1, 1, 1, 5, 1, 1)</td>\n",
       "      <td>4</td>\n",
       "    </tr>\n",
       "    <tr>\n",
       "      <th>...</th>\n",
       "      <td>...</td>\n",
       "      <td>...</td>\n",
       "      <td>...</td>\n",
       "      <td>...</td>\n",
       "      <td>...</td>\n",
       "      <td>...</td>\n",
       "      <td>...</td>\n",
       "      <td>...</td>\n",
       "      <td>...</td>\n",
       "    </tr>\n",
       "    <tr>\n",
       "      <th>1275</th>\n",
       "      <td>UP_XI-2</td>\n",
       "      <td>OeuG8H_tADH1</td>\n",
       "      <td>pRPL15B</td>\n",
       "      <td>pCCW12</td>\n",
       "      <td>CpoCPR_tCYC1</td>\n",
       "      <td>seq_3HMRtcpy</td>\n",
       "      <td>DW_XI-2</td>\n",
       "      <td>(1, 8, 4, 4, 6, 1, 1)</td>\n",
       "      <td>1275</td>\n",
       "    </tr>\n",
       "    <tr>\n",
       "      <th>1276</th>\n",
       "      <td>UP_XI-2</td>\n",
       "      <td>OeuG8H_tADH1</td>\n",
       "      <td>pRPL15B</td>\n",
       "      <td>pCCW12</td>\n",
       "      <td>OeuCPR_tCYC1</td>\n",
       "      <td>seq_3HMRtcpy</td>\n",
       "      <td>DW_XI-2</td>\n",
       "      <td>(1, 8, 4, 4, 7, 1, 1)</td>\n",
       "      <td>1276</td>\n",
       "    </tr>\n",
       "    <tr>\n",
       "      <th>1277</th>\n",
       "      <td>UP_XI-2</td>\n",
       "      <td>OeuG8H_tADH1</td>\n",
       "      <td>pRPL15B</td>\n",
       "      <td>pCCW12</td>\n",
       "      <td>RseCPR_tCYC1</td>\n",
       "      <td>seq_3HMRtcpy</td>\n",
       "      <td>DW_XI-2</td>\n",
       "      <td>(1, 8, 4, 4, 8, 1, 1)</td>\n",
       "      <td>1277</td>\n",
       "    </tr>\n",
       "    <tr>\n",
       "      <th>1278</th>\n",
       "      <td>UP_XI-2</td>\n",
       "      <td>OeuG8H_tADH1</td>\n",
       "      <td>pRPL15B</td>\n",
       "      <td>pCCW12</td>\n",
       "      <td>AthATR1_tCYC1</td>\n",
       "      <td>seq_3HMRtcpy</td>\n",
       "      <td>DW_XI-2</td>\n",
       "      <td>(1, 8, 4, 4, 9, 1, 1)</td>\n",
       "      <td>1278</td>\n",
       "    </tr>\n",
       "    <tr>\n",
       "      <th>1279</th>\n",
       "      <td>UP_XI-2</td>\n",
       "      <td>OeuG8H_tADH1</td>\n",
       "      <td>pRPL15B</td>\n",
       "      <td>pCCW12</td>\n",
       "      <td>CroCPR_tCYC1</td>\n",
       "      <td>seq_3HMRtcpy</td>\n",
       "      <td>DW_XI-2</td>\n",
       "      <td>(1, 8, 4, 4, 10, 1, 1)</td>\n",
       "      <td>1279</td>\n",
       "    </tr>\n",
       "  </tbody>\n",
       "</table>\n",
       "<p>1280 rows × 9 columns</p>\n",
       "</div>"
      ],
      "text/plain": [
       "            0              1        2       3              4             5  \\\n",
       "0     UP_XI-2  CcalG8H_tADH1    pCYC1   pMLS1   AhuCPR_tCYC1  seq_3HMRtcpy   \n",
       "1     UP_XI-2  CcalG8H_tADH1    pCYC1   pMLS1   AanCPR_tCYC1  seq_3HMRtcpy   \n",
       "2     UP_XI-2  CcalG8H_tADH1    pCYC1   pMLS1   CloCPR_tCYC1  seq_3HMRtcpy   \n",
       "3     UP_XI-2  CcalG8H_tADH1    pCYC1   pMLS1   CacCPR_tCYC1  seq_3HMRtcpy   \n",
       "4     UP_XI-2  CcalG8H_tADH1    pCYC1   pMLS1   AniCPR_tCYC1  seq_3HMRtcpy   \n",
       "...       ...            ...      ...     ...            ...           ...   \n",
       "1275  UP_XI-2   OeuG8H_tADH1  pRPL15B  pCCW12   CpoCPR_tCYC1  seq_3HMRtcpy   \n",
       "1276  UP_XI-2   OeuG8H_tADH1  pRPL15B  pCCW12   OeuCPR_tCYC1  seq_3HMRtcpy   \n",
       "1277  UP_XI-2   OeuG8H_tADH1  pRPL15B  pCCW12   RseCPR_tCYC1  seq_3HMRtcpy   \n",
       "1278  UP_XI-2   OeuG8H_tADH1  pRPL15B  pCCW12  AthATR1_tCYC1  seq_3HMRtcpy   \n",
       "1279  UP_XI-2   OeuG8H_tADH1  pRPL15B  pCCW12   CroCPR_tCYC1  seq_3HMRtcpy   \n",
       "\n",
       "            6         Systematic_name  Variant  \n",
       "0     DW_XI-2   (1, 1, 1, 1, 1, 1, 1)        0  \n",
       "1     DW_XI-2   (1, 1, 1, 1, 2, 1, 1)        1  \n",
       "2     DW_XI-2   (1, 1, 1, 1, 3, 1, 1)        2  \n",
       "3     DW_XI-2   (1, 1, 1, 1, 4, 1, 1)        3  \n",
       "4     DW_XI-2   (1, 1, 1, 1, 5, 1, 1)        4  \n",
       "...       ...                     ...      ...  \n",
       "1275  DW_XI-2   (1, 8, 4, 4, 6, 1, 1)     1275  \n",
       "1276  DW_XI-2   (1, 8, 4, 4, 7, 1, 1)     1276  \n",
       "1277  DW_XI-2   (1, 8, 4, 4, 8, 1, 1)     1277  \n",
       "1278  DW_XI-2   (1, 8, 4, 4, 9, 1, 1)     1278  \n",
       "1279  DW_XI-2  (1, 8, 4, 4, 10, 1, 1)     1279  \n",
       "\n",
       "[1280 rows x 9 columns]"
      ]
     },
     "execution_count": 157,
     "metadata": {},
     "output_type": "execute_result"
    }
   ],
   "source": [
    "combinatorial_lib_variants_df = G8H_assembly.show_variants_lib_df()\n",
    "combinatorial_lib_variants_df"
   ]
  },
  {
   "attachments": {},
   "cell_type": "markdown",
   "metadata": {
    "id": "4b8247ca-ae06-4d4d-9f9c-095ffc5fccc5"
   },
   "source": [
    "We can change the coloumn names to get a better overview. \n"
   ]
  },
  {
   "cell_type": "code",
   "execution_count": 158,
   "metadata": {
    "colab": {
     "base_uri": "https://localhost:8080/",
     "height": 424
    },
    "id": "18618e72-cd10-4b1f-b368-4e682eac73f5",
    "outputId": "13c22c9c-e404-46f5-f95d-a465fef8bd0a"
   },
   "outputs": [
    {
     "data": {
      "text/html": [
       "<div>\n",
       "<style scoped>\n",
       "    .dataframe tbody tr th:only-of-type {\n",
       "        vertical-align: middle;\n",
       "    }\n",
       "\n",
       "    .dataframe tbody tr th {\n",
       "        vertical-align: top;\n",
       "    }\n",
       "\n",
       "    .dataframe thead th {\n",
       "        text-align: right;\n",
       "    }\n",
       "</style>\n",
       "<table border=\"1\" class=\"dataframe\">\n",
       "  <thead>\n",
       "    <tr style=\"text-align: right;\">\n",
       "      <th></th>\n",
       "      <th>UP_site</th>\n",
       "      <th>&lt;- G8H-CYP</th>\n",
       "      <th>&lt;-Promoters1</th>\n",
       "      <th>Promoters2-&gt;</th>\n",
       "      <th>CPR-&gt;</th>\n",
       "      <th>Trp_marker-&gt;</th>\n",
       "      <th>Down_site</th>\n",
       "      <th>Systematic_name</th>\n",
       "      <th>Variant</th>\n",
       "    </tr>\n",
       "  </thead>\n",
       "  <tbody>\n",
       "    <tr>\n",
       "      <th>0</th>\n",
       "      <td>UP_XI-2</td>\n",
       "      <td>CcalG8H_tADH1</td>\n",
       "      <td>pCYC1</td>\n",
       "      <td>pMLS1</td>\n",
       "      <td>AhuCPR_tCYC1</td>\n",
       "      <td>seq_3HMRtcpy</td>\n",
       "      <td>DW_XI-2</td>\n",
       "      <td>(1, 1, 1, 1, 1, 1, 1)</td>\n",
       "      <td>0</td>\n",
       "    </tr>\n",
       "    <tr>\n",
       "      <th>1</th>\n",
       "      <td>UP_XI-2</td>\n",
       "      <td>CcalG8H_tADH1</td>\n",
       "      <td>pCYC1</td>\n",
       "      <td>pMLS1</td>\n",
       "      <td>AanCPR_tCYC1</td>\n",
       "      <td>seq_3HMRtcpy</td>\n",
       "      <td>DW_XI-2</td>\n",
       "      <td>(1, 1, 1, 1, 2, 1, 1)</td>\n",
       "      <td>1</td>\n",
       "    </tr>\n",
       "    <tr>\n",
       "      <th>2</th>\n",
       "      <td>UP_XI-2</td>\n",
       "      <td>CcalG8H_tADH1</td>\n",
       "      <td>pCYC1</td>\n",
       "      <td>pMLS1</td>\n",
       "      <td>CloCPR_tCYC1</td>\n",
       "      <td>seq_3HMRtcpy</td>\n",
       "      <td>DW_XI-2</td>\n",
       "      <td>(1, 1, 1, 1, 3, 1, 1)</td>\n",
       "      <td>2</td>\n",
       "    </tr>\n",
       "    <tr>\n",
       "      <th>3</th>\n",
       "      <td>UP_XI-2</td>\n",
       "      <td>CcalG8H_tADH1</td>\n",
       "      <td>pCYC1</td>\n",
       "      <td>pMLS1</td>\n",
       "      <td>CacCPR_tCYC1</td>\n",
       "      <td>seq_3HMRtcpy</td>\n",
       "      <td>DW_XI-2</td>\n",
       "      <td>(1, 1, 1, 1, 4, 1, 1)</td>\n",
       "      <td>3</td>\n",
       "    </tr>\n",
       "    <tr>\n",
       "      <th>4</th>\n",
       "      <td>UP_XI-2</td>\n",
       "      <td>CcalG8H_tADH1</td>\n",
       "      <td>pCYC1</td>\n",
       "      <td>pMLS1</td>\n",
       "      <td>AniCPR_tCYC1</td>\n",
       "      <td>seq_3HMRtcpy</td>\n",
       "      <td>DW_XI-2</td>\n",
       "      <td>(1, 1, 1, 1, 5, 1, 1)</td>\n",
       "      <td>4</td>\n",
       "    </tr>\n",
       "    <tr>\n",
       "      <th>...</th>\n",
       "      <td>...</td>\n",
       "      <td>...</td>\n",
       "      <td>...</td>\n",
       "      <td>...</td>\n",
       "      <td>...</td>\n",
       "      <td>...</td>\n",
       "      <td>...</td>\n",
       "      <td>...</td>\n",
       "      <td>...</td>\n",
       "    </tr>\n",
       "    <tr>\n",
       "      <th>1275</th>\n",
       "      <td>UP_XI-2</td>\n",
       "      <td>OeuG8H_tADH1</td>\n",
       "      <td>pRPL15B</td>\n",
       "      <td>pCCW12</td>\n",
       "      <td>CpoCPR_tCYC1</td>\n",
       "      <td>seq_3HMRtcpy</td>\n",
       "      <td>DW_XI-2</td>\n",
       "      <td>(1, 8, 4, 4, 6, 1, 1)</td>\n",
       "      <td>1275</td>\n",
       "    </tr>\n",
       "    <tr>\n",
       "      <th>1276</th>\n",
       "      <td>UP_XI-2</td>\n",
       "      <td>OeuG8H_tADH1</td>\n",
       "      <td>pRPL15B</td>\n",
       "      <td>pCCW12</td>\n",
       "      <td>OeuCPR_tCYC1</td>\n",
       "      <td>seq_3HMRtcpy</td>\n",
       "      <td>DW_XI-2</td>\n",
       "      <td>(1, 8, 4, 4, 7, 1, 1)</td>\n",
       "      <td>1276</td>\n",
       "    </tr>\n",
       "    <tr>\n",
       "      <th>1277</th>\n",
       "      <td>UP_XI-2</td>\n",
       "      <td>OeuG8H_tADH1</td>\n",
       "      <td>pRPL15B</td>\n",
       "      <td>pCCW12</td>\n",
       "      <td>RseCPR_tCYC1</td>\n",
       "      <td>seq_3HMRtcpy</td>\n",
       "      <td>DW_XI-2</td>\n",
       "      <td>(1, 8, 4, 4, 8, 1, 1)</td>\n",
       "      <td>1277</td>\n",
       "    </tr>\n",
       "    <tr>\n",
       "      <th>1278</th>\n",
       "      <td>UP_XI-2</td>\n",
       "      <td>OeuG8H_tADH1</td>\n",
       "      <td>pRPL15B</td>\n",
       "      <td>pCCW12</td>\n",
       "      <td>AthATR1_tCYC1</td>\n",
       "      <td>seq_3HMRtcpy</td>\n",
       "      <td>DW_XI-2</td>\n",
       "      <td>(1, 8, 4, 4, 9, 1, 1)</td>\n",
       "      <td>1278</td>\n",
       "    </tr>\n",
       "    <tr>\n",
       "      <th>1279</th>\n",
       "      <td>UP_XI-2</td>\n",
       "      <td>OeuG8H_tADH1</td>\n",
       "      <td>pRPL15B</td>\n",
       "      <td>pCCW12</td>\n",
       "      <td>CroCPR_tCYC1</td>\n",
       "      <td>seq_3HMRtcpy</td>\n",
       "      <td>DW_XI-2</td>\n",
       "      <td>(1, 8, 4, 4, 10, 1, 1)</td>\n",
       "      <td>1279</td>\n",
       "    </tr>\n",
       "  </tbody>\n",
       "</table>\n",
       "<p>1280 rows × 9 columns</p>\n",
       "</div>"
      ],
      "text/plain": [
       "      UP_site     <- G8H-CYP <-Promoters1 Promoters2->          CPR->  \\\n",
       "0     UP_XI-2  CcalG8H_tADH1        pCYC1        pMLS1   AhuCPR_tCYC1   \n",
       "1     UP_XI-2  CcalG8H_tADH1        pCYC1        pMLS1   AanCPR_tCYC1   \n",
       "2     UP_XI-2  CcalG8H_tADH1        pCYC1        pMLS1   CloCPR_tCYC1   \n",
       "3     UP_XI-2  CcalG8H_tADH1        pCYC1        pMLS1   CacCPR_tCYC1   \n",
       "4     UP_XI-2  CcalG8H_tADH1        pCYC1        pMLS1   AniCPR_tCYC1   \n",
       "...       ...            ...          ...          ...            ...   \n",
       "1275  UP_XI-2   OeuG8H_tADH1      pRPL15B       pCCW12   CpoCPR_tCYC1   \n",
       "1276  UP_XI-2   OeuG8H_tADH1      pRPL15B       pCCW12   OeuCPR_tCYC1   \n",
       "1277  UP_XI-2   OeuG8H_tADH1      pRPL15B       pCCW12   RseCPR_tCYC1   \n",
       "1278  UP_XI-2   OeuG8H_tADH1      pRPL15B       pCCW12  AthATR1_tCYC1   \n",
       "1279  UP_XI-2   OeuG8H_tADH1      pRPL15B       pCCW12   CroCPR_tCYC1   \n",
       "\n",
       "      Trp_marker-> Down_site         Systematic_name  Variant  \n",
       "0     seq_3HMRtcpy   DW_XI-2   (1, 1, 1, 1, 1, 1, 1)        0  \n",
       "1     seq_3HMRtcpy   DW_XI-2   (1, 1, 1, 1, 2, 1, 1)        1  \n",
       "2     seq_3HMRtcpy   DW_XI-2   (1, 1, 1, 1, 3, 1, 1)        2  \n",
       "3     seq_3HMRtcpy   DW_XI-2   (1, 1, 1, 1, 4, 1, 1)        3  \n",
       "4     seq_3HMRtcpy   DW_XI-2   (1, 1, 1, 1, 5, 1, 1)        4  \n",
       "...            ...       ...                     ...      ...  \n",
       "1275  seq_3HMRtcpy   DW_XI-2   (1, 8, 4, 4, 6, 1, 1)     1275  \n",
       "1276  seq_3HMRtcpy   DW_XI-2   (1, 8, 4, 4, 7, 1, 1)     1276  \n",
       "1277  seq_3HMRtcpy   DW_XI-2   (1, 8, 4, 4, 8, 1, 1)     1277  \n",
       "1278  seq_3HMRtcpy   DW_XI-2   (1, 8, 4, 4, 9, 1, 1)     1278  \n",
       "1279  seq_3HMRtcpy   DW_XI-2  (1, 8, 4, 4, 10, 1, 1)     1279  \n",
       "\n",
       "[1280 rows x 9 columns]"
      ]
     },
     "execution_count": 158,
     "metadata": {},
     "output_type": "execute_result"
    }
   ],
   "source": [
    "combinatorial_lib_variants_df = combinatorial_lib_variants_df.rename(columns={0: 'UP_site',1: '<- G8H-CYP', 2: '<-Promoters1', 3:'Promoters2->', 4:'CPR->', 5:'Trp_marker->', 6:'Down_site'})\n",
    "combinatorial_lib_variants_df"
   ]
  },
  {
   "attachments": {},
   "cell_type": "markdown",
   "metadata": {
    "id": "2eae88c3-bec8-4e16-970e-2a1e4dd695e1"
   },
   "source": [
    "Lets see how the first assembly overlaps. We can do that with the following code: "
   ]
  },
  {
   "cell_type": "code",
   "execution_count": 159,
   "metadata": {
    "colab": {
     "base_uri": "https://localhost:8080/"
    },
    "id": "d83c6996-208b-4400-a445-0f0b20c979ef",
    "outputId": "81244118-b3d2-407e-bf43-7558687d2db0"
   },
   "outputs": [
    {
     "name": "stdout",
     "output_type": "stream",
     "text": [
      "UP_XI-2|40\n",
      "        \\/\n",
      "        /\\\n",
      "        40|CcalG8H_tADH1|40\n",
      "                         \\/\n",
      "                         /\\\n",
      "                         40|pCYC1|40\n",
      "                                  \\/\n",
      "                                  /\\\n",
      "                                  40|pMLS1|40\n",
      "                                           \\/\n",
      "                                           /\\\n",
      "                                           40|AhuCPR_tCYC1|40\n",
      "                                                           \\/\n",
      "                                                           /\\\n",
      "                                                           40|seq_3HMRtcpy|40\n",
      "                                                                           \\/\n",
      "                                                                           /\\\n",
      "                                                                           40|DW_XI-2\n"
     ]
    }
   ],
   "source": [
    "# the first variant is chosen here\n",
    "subset_of_the_assemblies = G8H_assembly.list_of_assemblies[0]\n",
    "assemble = Assembly(subset_of_the_assemblies, limit = 30)\n",
    "print(assemble.assemble_linear()[0].figure())"
   ]
  },
  {
   "attachments": {},
   "cell_type": "markdown",
   "metadata": {
    "id": "fec87d23-8654-4bf4-baf8-9f013a8fcc2a"
   },
   "source": [
    "How long is the contig?"
   ]
  },
  {
   "cell_type": "code",
   "execution_count": 160,
   "metadata": {
    "colab": {
     "base_uri": "https://localhost:8080/"
    },
    "id": "5966a9ef-40e3-43cc-861b-78f3d88862b8",
    "outputId": "e3fc685b-3b2e-4108-c236-d0ccc2ac94cd"
   },
   "outputs": [
    {
     "data": {
      "text/plain": [
       "[Contig(-8703)]"
      ]
     },
     "execution_count": 160,
     "metadata": {},
     "output_type": "execute_result"
    }
   ],
   "source": [
    "assemble.assemble_linear()"
   ]
  },
  {
   "attachments": {},
   "cell_type": "markdown",
   "metadata": {
    "id": "ccc8e585-2eea-45e9-a487-1d5365c34547"
   },
   "source": [
    "We can retrieve the primers needed for the assembly in the following way:"
   ]
  },
  {
   "cell_type": "code",
   "execution_count": 161,
   "metadata": {
    "colab": {
     "base_uri": "https://localhost:8080/",
     "height": 424
    },
    "id": "5c0b5422-53e7-415b-a304-006bd7fa1b4b",
    "outputId": "1959a406-167e-40ee-b08b-eb30df86e910"
   },
   "outputs": [
    {
     "data": {
      "text/html": [
       "<div>\n",
       "<style scoped>\n",
       "    .dataframe tbody tr th:only-of-type {\n",
       "        vertical-align: middle;\n",
       "    }\n",
       "\n",
       "    .dataframe tbody tr th {\n",
       "        vertical-align: top;\n",
       "    }\n",
       "\n",
       "    .dataframe thead th {\n",
       "        text-align: right;\n",
       "    }\n",
       "</style>\n",
       "<table border=\"1\" class=\"dataframe\">\n",
       "  <thead>\n",
       "    <tr style=\"text-align: right;\">\n",
       "      <th></th>\n",
       "      <th>id</th>\n",
       "      <th>anneals to</th>\n",
       "      <th>sequence</th>\n",
       "      <th>annealing temperature</th>\n",
       "      <th>length</th>\n",
       "      <th>price(DKK)</th>\n",
       "      <th>description</th>\n",
       "      <th>footprint</th>\n",
       "      <th>len_footprint</th>\n",
       "    </tr>\n",
       "  </thead>\n",
       "  <tbody>\n",
       "    <tr>\n",
       "      <th>0</th>\n",
       "      <td>P001</td>\n",
       "      <td>UP_XI-2</td>\n",
       "      <td>(G, A, G, G, A, T, T, T, T, C, G, A, T, G, G, ...</td>\n",
       "      <td>53.32</td>\n",
       "      <td>17</td>\n",
       "      <td>30.6</td>\n",
       "      <td>Anneals to UP_XI-2</td>\n",
       "      <td>(G, A, G, G, A, T, T, T, T, C, G, A, T, G, G, ...</td>\n",
       "      <td>17</td>\n",
       "    </tr>\n",
       "    <tr>\n",
       "      <th>1</th>\n",
       "      <td>P002</td>\n",
       "      <td>UP_XI-2</td>\n",
       "      <td>(T, G, T, T, A, T, C, A, A, T, T, C, A, T, T, ...</td>\n",
       "      <td>52.27</td>\n",
       "      <td>36</td>\n",
       "      <td>64.8</td>\n",
       "      <td>Anneals to UP_XI-2, overlaps to 1843bp_PCR_prod</td>\n",
       "      <td>(T, T, G, T, G, G, A, A, G, T, T, C, A, T, G, G)</td>\n",
       "      <td>16</td>\n",
       "    </tr>\n",
       "    <tr>\n",
       "      <th>2</th>\n",
       "      <td>P003</td>\n",
       "      <td>CcalG8H_tADH1</td>\n",
       "      <td>(T, T, T, G, C, C, A, T, G, A, A, C, T, T, C, ...</td>\n",
       "      <td>55.96</td>\n",
       "      <td>42</td>\n",
       "      <td>75.6</td>\n",
       "      <td>Anneals to CcalG8H_tADH1, overlaps to UP_XI-2</td>\n",
       "      <td>(T, A, C, C, T, A, A, T, G, A, A, T, T, G, A, ...</td>\n",
       "      <td>22</td>\n",
       "    </tr>\n",
       "    <tr>\n",
       "      <th>3</th>\n",
       "      <td>P004</td>\n",
       "      <td>CcalG8H_tADH1</td>\n",
       "      <td>(T, G, T, G, T, G, T, G, A, T, T, T, A, A, T, ...</td>\n",
       "      <td>56.54</td>\n",
       "      <td>35</td>\n",
       "      <td>63.0</td>\n",
       "      <td>Anneals to CcalG8H_tADH1, overlaps to 1031bp_P...</td>\n",
       "      <td>(C, T, C, G, C, T, G, G, A, G, T, A, C, G, A)</td>\n",
       "      <td>15</td>\n",
       "    </tr>\n",
       "    <tr>\n",
       "      <th>4</th>\n",
       "      <td>P005</td>\n",
       "      <td>pCYC1</td>\n",
       "      <td>(C, C, A, T, A, T, C, G, T, A, C, T, C, C, A, ...</td>\n",
       "      <td>55.12</td>\n",
       "      <td>46</td>\n",
       "      <td>82.8</td>\n",
       "      <td>Anneals to pCYC1, overlaps to CcalG8H_tADH1</td>\n",
       "      <td>(A, A, A, T, A, A, T, T, A, A, A, T, C, A, C, ...</td>\n",
       "      <td>26</td>\n",
       "    </tr>\n",
       "    <tr>\n",
       "      <th>...</th>\n",
       "      <td>...</td>\n",
       "      <td>...</td>\n",
       "      <td>...</td>\n",
       "      <td>...</td>\n",
       "      <td>...</td>\n",
       "      <td>...</td>\n",
       "      <td>...</td>\n",
       "      <td>...</td>\n",
       "      <td>...</td>\n",
       "    </tr>\n",
       "    <tr>\n",
       "      <th>106</th>\n",
       "      <td>P107</td>\n",
       "      <td>SmusG8H_tADH1</td>\n",
       "      <td>(T, T, T, G, C, C, A, T, G, A, A, C, T, T, C, ...</td>\n",
       "      <td>54.46</td>\n",
       "      <td>39</td>\n",
       "      <td>70.2</td>\n",
       "      <td>Anneals to SmusG8H_tADH1, overlaps to UP_XI-2</td>\n",
       "      <td>(T, A, C, C, T, G, A, A, A, C, T, G, A, A, G, ...</td>\n",
       "      <td>19</td>\n",
       "    </tr>\n",
       "    <tr>\n",
       "      <th>107</th>\n",
       "      <td>P108</td>\n",
       "      <td>UP_XI-2</td>\n",
       "      <td>(C, G, C, T, A, G, C, A, G, T, T, C, A, T, T, ...</td>\n",
       "      <td>52.27</td>\n",
       "      <td>36</td>\n",
       "      <td>64.8</td>\n",
       "      <td>Anneals to UP_XI-2, overlaps to 1843bp_PCR_prod</td>\n",
       "      <td>(T, T, G, T, G, G, A, A, G, T, T, C, A, T, G, G)</td>\n",
       "      <td>16</td>\n",
       "    </tr>\n",
       "    <tr>\n",
       "      <th>108</th>\n",
       "      <td>P109</td>\n",
       "      <td>VminG8H_tADH1</td>\n",
       "      <td>(T, T, T, G, C, C, A, T, G, A, A, C, T, T, C, ...</td>\n",
       "      <td>56.77</td>\n",
       "      <td>39</td>\n",
       "      <td>70.2</td>\n",
       "      <td>Anneals to VminG8H_tADH1, overlaps to UP_XI-2</td>\n",
       "      <td>(T, A, C, C, T, A, A, T, G, A, A, C, T, G, C, ...</td>\n",
       "      <td>19</td>\n",
       "    </tr>\n",
       "    <tr>\n",
       "      <th>109</th>\n",
       "      <td>P110</td>\n",
       "      <td>UP_XI-2</td>\n",
       "      <td>(T, G, C, T, A, A, C, A, A, T, T, C, T, T, C, ...</td>\n",
       "      <td>52.27</td>\n",
       "      <td>36</td>\n",
       "      <td>64.8</td>\n",
       "      <td>Anneals to UP_XI-2, overlaps to 1843bp_PCR_prod</td>\n",
       "      <td>(T, T, G, T, G, G, A, A, G, T, T, C, A, T, G, G)</td>\n",
       "      <td>16</td>\n",
       "    </tr>\n",
       "    <tr>\n",
       "      <th>110</th>\n",
       "      <td>P111</td>\n",
       "      <td>OeuG8H_tADH1</td>\n",
       "      <td>(T, T, T, G, C, C, A, T, G, A, A, C, T, T, C, ...</td>\n",
       "      <td>54.02</td>\n",
       "      <td>39</td>\n",
       "      <td>70.2</td>\n",
       "      <td>Anneals to OeuG8H_tADH1, overlaps to UP_XI-2</td>\n",
       "      <td>(T, A, C, C, T, G, A, A, G, A, A, T, T, G, T, ...</td>\n",
       "      <td>19</td>\n",
       "    </tr>\n",
       "  </tbody>\n",
       "</table>\n",
       "<p>111 rows × 9 columns</p>\n",
       "</div>"
      ],
      "text/plain": [
       "       id     anneals to                                           sequence  \\\n",
       "0    P001        UP_XI-2  (G, A, G, G, A, T, T, T, T, C, G, A, T, G, G, ...   \n",
       "1    P002        UP_XI-2  (T, G, T, T, A, T, C, A, A, T, T, C, A, T, T, ...   \n",
       "2    P003  CcalG8H_tADH1  (T, T, T, G, C, C, A, T, G, A, A, C, T, T, C, ...   \n",
       "3    P004  CcalG8H_tADH1  (T, G, T, G, T, G, T, G, A, T, T, T, A, A, T, ...   \n",
       "4    P005          pCYC1  (C, C, A, T, A, T, C, G, T, A, C, T, C, C, A, ...   \n",
       "..    ...            ...                                                ...   \n",
       "106  P107  SmusG8H_tADH1  (T, T, T, G, C, C, A, T, G, A, A, C, T, T, C, ...   \n",
       "107  P108        UP_XI-2  (C, G, C, T, A, G, C, A, G, T, T, C, A, T, T, ...   \n",
       "108  P109  VminG8H_tADH1  (T, T, T, G, C, C, A, T, G, A, A, C, T, T, C, ...   \n",
       "109  P110        UP_XI-2  (T, G, C, T, A, A, C, A, A, T, T, C, T, T, C, ...   \n",
       "110  P111   OeuG8H_tADH1  (T, T, T, G, C, C, A, T, G, A, A, C, T, T, C, ...   \n",
       "\n",
       "     annealing temperature  length  price(DKK)  \\\n",
       "0                    53.32      17        30.6   \n",
       "1                    52.27      36        64.8   \n",
       "2                    55.96      42        75.6   \n",
       "3                    56.54      35        63.0   \n",
       "4                    55.12      46        82.8   \n",
       "..                     ...     ...         ...   \n",
       "106                  54.46      39        70.2   \n",
       "107                  52.27      36        64.8   \n",
       "108                  56.77      39        70.2   \n",
       "109                  52.27      36        64.8   \n",
       "110                  54.02      39        70.2   \n",
       "\n",
       "                                           description  \\\n",
       "0                                   Anneals to UP_XI-2   \n",
       "1      Anneals to UP_XI-2, overlaps to 1843bp_PCR_prod   \n",
       "2        Anneals to CcalG8H_tADH1, overlaps to UP_XI-2   \n",
       "3    Anneals to CcalG8H_tADH1, overlaps to 1031bp_P...   \n",
       "4          Anneals to pCYC1, overlaps to CcalG8H_tADH1   \n",
       "..                                                 ...   \n",
       "106      Anneals to SmusG8H_tADH1, overlaps to UP_XI-2   \n",
       "107    Anneals to UP_XI-2, overlaps to 1843bp_PCR_prod   \n",
       "108      Anneals to VminG8H_tADH1, overlaps to UP_XI-2   \n",
       "109    Anneals to UP_XI-2, overlaps to 1843bp_PCR_prod   \n",
       "110       Anneals to OeuG8H_tADH1, overlaps to UP_XI-2   \n",
       "\n",
       "                                             footprint  len_footprint  \n",
       "0    (G, A, G, G, A, T, T, T, T, C, G, A, T, G, G, ...             17  \n",
       "1     (T, T, G, T, G, G, A, A, G, T, T, C, A, T, G, G)             16  \n",
       "2    (T, A, C, C, T, A, A, T, G, A, A, T, T, G, A, ...             22  \n",
       "3        (C, T, C, G, C, T, G, G, A, G, T, A, C, G, A)             15  \n",
       "4    (A, A, A, T, A, A, T, T, A, A, A, T, C, A, C, ...             26  \n",
       "..                                                 ...            ...  \n",
       "106  (T, A, C, C, T, G, A, A, A, C, T, G, A, A, G, ...             19  \n",
       "107   (T, T, G, T, G, G, A, A, G, T, T, C, A, T, G, G)             16  \n",
       "108  (T, A, C, C, T, A, A, T, G, A, A, C, T, G, C, ...             19  \n",
       "109   (T, T, G, T, G, G, A, A, G, T, T, C, A, T, G, G)             16  \n",
       "110  (T, A, C, C, T, G, A, A, G, A, A, T, T, G, T, ...             19  \n",
       "\n",
       "[111 rows x 9 columns]"
      ]
     },
     "execution_count": 161,
     "metadata": {},
     "output_type": "execute_result"
    }
   ],
   "source": [
    "G8H_primer_df = G8H_assembly.primer_list_to_dataframe()\n",
    "G8H_primer_df"
   ]
  },
  {
   "cell_type": "code",
   "execution_count": 162,
   "metadata": {},
   "outputs": [
    {
     "data": {
      "text/plain": [
       "4933"
      ]
     },
     "execution_count": 162,
     "metadata": {},
     "output_type": "execute_result"
    }
   ],
   "source": [
    "Total_bases = G8H_primer_df['length'].sum()\n",
    "Total_bases"
   ]
  },
  {
   "cell_type": "code",
   "execution_count": 163,
   "metadata": {},
   "outputs": [
    {
     "name": "stdout",
     "output_type": "stream",
     "text": [
      "The total price of the primers for the library is: 8879\n"
     ]
    }
   ],
   "source": [
    "Total_price = G8H_primer_df['price(DKK)'].sum()\n",
    "print(f\"The total price of the primers for the library is: {Total_price:.0f}\")"
   ]
  },
  {
   "cell_type": "code",
   "execution_count": 164,
   "metadata": {},
   "outputs": [
    {
     "data": {
      "text/plain": [
       "8"
      ]
     },
     "execution_count": 164,
     "metadata": {},
     "output_type": "execute_result"
    }
   ],
   "source": [
    "larger_than_60 = G8H_primer_df[G8H_primer_df.length > 60]\n",
    "len(larger_than_60)"
   ]
  },
  {
   "attachments": {},
   "cell_type": "markdown",
   "metadata": {
    "id": "f5ac0d7d-8d51-4887-90d0-fe94b817ab8c"
   },
   "source": [
    "If we want to take a closer look at the PCRs needed to complete the library do the following: "
   ]
  },
  {
   "cell_type": "code",
   "execution_count": 165,
   "metadata": {
    "colab": {
     "base_uri": "https://localhost:8080/",
     "height": 1000
    },
    "id": "3c6dfb2a-1a32-43ff-9b1b-8b7a70d9209d",
    "outputId": "95758c39-3085-49ec-f46c-4d8e77981369"
   },
   "outputs": [
    {
     "data": {
      "text/html": [
       "<div>\n",
       "<style scoped>\n",
       "    .dataframe tbody tr th:only-of-type {\n",
       "        vertical-align: middle;\n",
       "    }\n",
       "\n",
       "    .dataframe tbody tr th {\n",
       "        vertical-align: top;\n",
       "    }\n",
       "\n",
       "    .dataframe thead th {\n",
       "        text-align: right;\n",
       "    }\n",
       "</style>\n",
       "<table border=\"1\" class=\"dataframe\">\n",
       "  <thead>\n",
       "    <tr style=\"text-align: right;\">\n",
       "      <th></th>\n",
       "      <th>pcr_number</th>\n",
       "      <th>template</th>\n",
       "      <th>forward_primer</th>\n",
       "      <th>reverse_primer</th>\n",
       "      <th>f_tm</th>\n",
       "      <th>r_tm</th>\n",
       "    </tr>\n",
       "  </thead>\n",
       "  <tbody>\n",
       "    <tr>\n",
       "      <th>0</th>\n",
       "      <td>PCR1</td>\n",
       "      <td>UP_XI-2</td>\n",
       "      <td>P001</td>\n",
       "      <td>P002</td>\n",
       "      <td>53.32</td>\n",
       "      <td>52.27</td>\n",
       "    </tr>\n",
       "    <tr>\n",
       "      <th>1</th>\n",
       "      <td>PCR2</td>\n",
       "      <td>CcalG8H_tADH1</td>\n",
       "      <td>P003</td>\n",
       "      <td>P004</td>\n",
       "      <td>55.96</td>\n",
       "      <td>56.54</td>\n",
       "    </tr>\n",
       "    <tr>\n",
       "      <th>2</th>\n",
       "      <td>PCR3</td>\n",
       "      <td>pCYC1</td>\n",
       "      <td>P005</td>\n",
       "      <td>P006</td>\n",
       "      <td>55.12</td>\n",
       "      <td>54.69</td>\n",
       "    </tr>\n",
       "    <tr>\n",
       "      <th>3</th>\n",
       "      <td>PCR4</td>\n",
       "      <td>pMLS1</td>\n",
       "      <td>P007</td>\n",
       "      <td>P008</td>\n",
       "      <td>56.11</td>\n",
       "      <td>56.18</td>\n",
       "    </tr>\n",
       "    <tr>\n",
       "      <th>4</th>\n",
       "      <td>PCR5</td>\n",
       "      <td>AhuCPR_tCYC1</td>\n",
       "      <td>P009</td>\n",
       "      <td>P010</td>\n",
       "      <td>53.04</td>\n",
       "      <td>53.50</td>\n",
       "    </tr>\n",
       "    <tr>\n",
       "      <th>...</th>\n",
       "      <td>...</td>\n",
       "      <td>...</td>\n",
       "      <td>...</td>\n",
       "      <td>...</td>\n",
       "      <td>...</td>\n",
       "      <td>...</td>\n",
       "    </tr>\n",
       "    <tr>\n",
       "      <th>147</th>\n",
       "      <td>PCR148</td>\n",
       "      <td>UP_XI-2</td>\n",
       "      <td>P001</td>\n",
       "      <td>P110</td>\n",
       "      <td>53.32</td>\n",
       "      <td>52.27</td>\n",
       "    </tr>\n",
       "    <tr>\n",
       "      <th>148</th>\n",
       "      <td>PCR149</td>\n",
       "      <td>OeuG8H_tADH1</td>\n",
       "      <td>P111</td>\n",
       "      <td>P098</td>\n",
       "      <td>54.02</td>\n",
       "      <td>54.40</td>\n",
       "    </tr>\n",
       "    <tr>\n",
       "      <th>149</th>\n",
       "      <td>PCR150</td>\n",
       "      <td>OeuG8H_tADH1</td>\n",
       "      <td>P111</td>\n",
       "      <td>P099</td>\n",
       "      <td>54.02</td>\n",
       "      <td>54.40</td>\n",
       "    </tr>\n",
       "    <tr>\n",
       "      <th>150</th>\n",
       "      <td>PCR151</td>\n",
       "      <td>OeuG8H_tADH1</td>\n",
       "      <td>P111</td>\n",
       "      <td>P100</td>\n",
       "      <td>54.02</td>\n",
       "      <td>54.40</td>\n",
       "    </tr>\n",
       "    <tr>\n",
       "      <th>151</th>\n",
       "      <td>PCR152</td>\n",
       "      <td>OeuG8H_tADH1</td>\n",
       "      <td>P111</td>\n",
       "      <td>P101</td>\n",
       "      <td>54.02</td>\n",
       "      <td>54.40</td>\n",
       "    </tr>\n",
       "  </tbody>\n",
       "</table>\n",
       "<p>152 rows × 6 columns</p>\n",
       "</div>"
      ],
      "text/plain": [
       "    pcr_number       template forward_primer reverse_primer   f_tm   r_tm\n",
       "0         PCR1        UP_XI-2           P001           P002  53.32  52.27\n",
       "1         PCR2  CcalG8H_tADH1           P003           P004  55.96  56.54\n",
       "2         PCR3          pCYC1           P005           P006  55.12  54.69\n",
       "3         PCR4          pMLS1           P007           P008  56.11  56.18\n",
       "4         PCR5   AhuCPR_tCYC1           P009           P010  53.04  53.50\n",
       "..         ...            ...            ...            ...    ...    ...\n",
       "147     PCR148        UP_XI-2           P001           P110  53.32  52.27\n",
       "148     PCR149   OeuG8H_tADH1           P111           P098  54.02  54.40\n",
       "149     PCR150   OeuG8H_tADH1           P111           P099  54.02  54.40\n",
       "150     PCR151   OeuG8H_tADH1           P111           P100  54.02  54.40\n",
       "151     PCR152   OeuG8H_tADH1           P111           P101  54.02  54.40\n",
       "\n",
       "[152 rows x 6 columns]"
      ]
     },
     "execution_count": 165,
     "metadata": {},
     "output_type": "execute_result"
    }
   ],
   "source": [
    "G8H_pcr_df = G8H_assembly.pcr_list_to_dataframe()\n",
    "G8H_pcr_df"
   ]
  },
  {
   "attachments": {},
   "cell_type": "markdown",
   "metadata": {
    "id": "1beb667a-33f6-4b67-9d93-b4d710bc3d41"
   },
   "source": [
    "With this information it is possible to: \n",
    "1. Order the primers\n",
    "2. Go into the lab and make the PCRs."
   ]
  },
  {
   "attachments": {},
   "cell_type": "markdown",
   "metadata": {
    "id": "5591e62b-0628-40be-afa2-825593b00464"
   },
   "source": [
    "Now, making that many PCRs can be a tough/tedious task to perform so lets make robot instructions that can help us increase the speed at which we make the library and limit mistakes. "
   ]
  },
  {
   "attachments": {},
   "cell_type": "markdown",
   "metadata": {},
   "source": [
    "# 3. Tesselagens library"
   ]
  },
  {
   "cell_type": "code",
   "execution_count": 166,
   "metadata": {},
   "outputs": [
    {
     "data": {
      "text/html": [
       "<div>\n",
       "<style scoped>\n",
       "    .dataframe tbody tr th:only-of-type {\n",
       "        vertical-align: middle;\n",
       "    }\n",
       "\n",
       "    .dataframe tbody tr th {\n",
       "        vertical-align: top;\n",
       "    }\n",
       "\n",
       "    .dataframe thead th {\n",
       "        text-align: right;\n",
       "    }\n",
       "</style>\n",
       "<table border=\"1\" class=\"dataframe\">\n",
       "  <thead>\n",
       "    <tr style=\"text-align: right;\">\n",
       "      <th></th>\n",
       "      <th>Id</th>\n",
       "      <th>Name</th>\n",
       "      <th>Target Parts</th>\n",
       "      <th>Size</th>\n",
       "      <th>Cost</th>\n",
       "      <th>Tm</th>\n",
       "      <th>Tm (3' only)</th>\n",
       "      <th>Sequence (3' only)</th>\n",
       "      <th>Sequence</th>\n",
       "      <th>Location</th>\n",
       "    </tr>\n",
       "  </thead>\n",
       "  <tbody>\n",
       "    <tr>\n",
       "      <th>0</th>\n",
       "      <td>3460</td>\n",
       "      <td>PR_UP_tADH1_05</td>\n",
       "      <td>XI-2_UP</td>\n",
       "      <td>22</td>\n",
       "      <td>2.2</td>\n",
       "      <td>58.178</td>\n",
       "      <td>58.178</td>\n",
       "      <td>GAGGATTTTCGATGGAGC</td>\n",
       "      <td>GAGGATTTTCGATGGAGC</td>\n",
       "      <td>o2_I06</td>\n",
       "    </tr>\n",
       "    <tr>\n",
       "      <th>1</th>\n",
       "      <td>3461</td>\n",
       "      <td>PR_UP_tADH1_06</td>\n",
       "      <td>XI-2_UP</td>\n",
       "      <td>64</td>\n",
       "      <td>6.4</td>\n",
       "      <td>69.335</td>\n",
       "      <td>57.264</td>\n",
       "      <td>TTGTGGAAGTTCATGGC</td>\n",
       "      <td>TAGGTCAGGTTGCTTTCTCAGGTATAGCATGAGGTCGCTCTTGTGG...</td>\n",
       "      <td>o2_I07</td>\n",
       "    </tr>\n",
       "    <tr>\n",
       "      <th>2</th>\n",
       "      <td>3407</td>\n",
       "      <td>PR_G8H_01</td>\n",
       "      <td>VminG8H_tADH1,SmusG8H_tADH1,RsepG8H_tADH1,Cacu...</td>\n",
       "      <td>19</td>\n",
       "      <td>1.9</td>\n",
       "      <td>57.335</td>\n",
       "      <td>57.335</td>\n",
       "      <td>GAGCGACCTCATGCTATAC</td>\n",
       "      <td>GAGCGACCTCATGCTATAC</td>\n",
       "      <td>op4_A10</td>\n",
       "    </tr>\n",
       "    <tr>\n",
       "      <th>3</th>\n",
       "      <td>3408</td>\n",
       "      <td>PR_G8H_02</td>\n",
       "      <td>VminG8H_tADH1,TIS_AAAACA</td>\n",
       "      <td>62</td>\n",
       "      <td>6.2</td>\n",
       "      <td>63.653</td>\n",
       "      <td>57.979</td>\n",
       "      <td>ATGGATTACTTGACGATCGC</td>\n",
       "      <td>AGACACACAAACACAAATACACACACTAAATTAATAAAAACAATGG...</td>\n",
       "      <td>op4_A01</td>\n",
       "    </tr>\n",
       "    <tr>\n",
       "      <th>4</th>\n",
       "      <td>3409</td>\n",
       "      <td>PR_G8H_03</td>\n",
       "      <td>VminG8H_tADH1,TIS_AAAACA</td>\n",
       "      <td>61</td>\n",
       "      <td>6.1</td>\n",
       "      <td>64.693</td>\n",
       "      <td>57.979</td>\n",
       "      <td>ATGGATTACTTGACGATCGC</td>\n",
       "      <td>ACACCAAGCAACTAATACTATAACATACAATAATAAAAACAATGGA...</td>\n",
       "      <td>op4_B01</td>\n",
       "    </tr>\n",
       "    <tr>\n",
       "      <th>...</th>\n",
       "      <td>...</td>\n",
       "      <td>...</td>\n",
       "      <td>...</td>\n",
       "      <td>...</td>\n",
       "      <td>...</td>\n",
       "      <td>...</td>\n",
       "      <td>...</td>\n",
       "      <td>...</td>\n",
       "      <td>...</td>\n",
       "      <td>...</td>\n",
       "    </tr>\n",
       "    <tr>\n",
       "      <th>91</th>\n",
       "      <td>3370</td>\n",
       "      <td>PR_CPR_02</td>\n",
       "      <td>CroCPR_tCYC1,RseCPR_tCYC1,OeuCPR_tCYC1,CpoCPR_...</td>\n",
       "      <td>20</td>\n",
       "      <td>2.0</td>\n",
       "      <td>56.289</td>\n",
       "      <td>56.289</td>\n",
       "      <td>TTCTCAAGCAAGGTTTTCAG</td>\n",
       "      <td>TTCTCAAGCAAGGTTTTCAG</td>\n",
       "      <td>op4_B10</td>\n",
       "    </tr>\n",
       "    <tr>\n",
       "      <th>92</th>\n",
       "      <td>3468</td>\n",
       "      <td>PR_TRP1-DW_01</td>\n",
       "      <td>TRP1-marker</td>\n",
       "      <td>61</td>\n",
       "      <td>6.1</td>\n",
       "      <td>72.322</td>\n",
       "      <td>66.788</td>\n",
       "      <td>AGACGGTCACAGCTTGTCTGTAAGC</td>\n",
       "      <td>CGCATGTAACATTATACTGAAAACCTTGCTTGAGAAAGACGGTCAC...</td>\n",
       "      <td>op4_C10</td>\n",
       "    </tr>\n",
       "    <tr>\n",
       "      <th>93</th>\n",
       "      <td>3469</td>\n",
       "      <td>PR_TRP1-DW_02</td>\n",
       "      <td>TRP1-marker</td>\n",
       "      <td>18</td>\n",
       "      <td>1.8</td>\n",
       "      <td>65.423</td>\n",
       "      <td>65.423</td>\n",
       "      <td>CGTAGTGGGCCATCGCCC</td>\n",
       "      <td>CGTAGTGGGCCATCGCCC</td>\n",
       "      <td>op4_D10</td>\n",
       "    </tr>\n",
       "    <tr>\n",
       "      <th>94</th>\n",
       "      <td>3470</td>\n",
       "      <td>PR_TRP1-DW_05</td>\n",
       "      <td>XI-2_DW</td>\n",
       "      <td>63</td>\n",
       "      <td>6.3</td>\n",
       "      <td>66.938</td>\n",
       "      <td>58.341</td>\n",
       "      <td>CACACGACTAGCGCT</td>\n",
       "      <td>GCGAAAAACCGTCTATCAGGGCGATGGCCCACTACGCACACGACTA...</td>\n",
       "      <td>o2_I08</td>\n",
       "    </tr>\n",
       "    <tr>\n",
       "      <th>95</th>\n",
       "      <td>3471</td>\n",
       "      <td>PR_TRP1-DW_06</td>\n",
       "      <td>XI-2_DW</td>\n",
       "      <td>18</td>\n",
       "      <td>1.8</td>\n",
       "      <td>59.312</td>\n",
       "      <td>59.312</td>\n",
       "      <td>GTGGGAAGATTCCGCT</td>\n",
       "      <td>GTGGGAAGATTCCGCT</td>\n",
       "      <td>o2_I09</td>\n",
       "    </tr>\n",
       "  </tbody>\n",
       "</table>\n",
       "<p>96 rows × 10 columns</p>\n",
       "</div>"
      ],
      "text/plain": [
       "      Id            Name                                       Target Parts  \\\n",
       "0   3460  PR_UP_tADH1_05                                            XI-2_UP   \n",
       "1   3461  PR_UP_tADH1_06                                            XI-2_UP   \n",
       "2   3407       PR_G8H_01  VminG8H_tADH1,SmusG8H_tADH1,RsepG8H_tADH1,Cacu...   \n",
       "3   3408       PR_G8H_02                           VminG8H_tADH1,TIS_AAAACA   \n",
       "4   3409       PR_G8H_03                           VminG8H_tADH1,TIS_AAAACA   \n",
       "..   ...             ...                                                ...   \n",
       "91  3370       PR_CPR_02  CroCPR_tCYC1,RseCPR_tCYC1,OeuCPR_tCYC1,CpoCPR_...   \n",
       "92  3468   PR_TRP1-DW_01                                        TRP1-marker   \n",
       "93  3469   PR_TRP1-DW_02                                        TRP1-marker   \n",
       "94  3470   PR_TRP1-DW_05                                            XI-2_DW   \n",
       "95  3471   PR_TRP1-DW_06                                            XI-2_DW   \n",
       "\n",
       "    Size  Cost      Tm  Tm (3' only)         Sequence (3' only)  \\\n",
       "0     22   2.2  58.178        58.178         GAGGATTTTCGATGGAGC   \n",
       "1     64   6.4  69.335        57.264          TTGTGGAAGTTCATGGC   \n",
       "2     19   1.9  57.335        57.335        GAGCGACCTCATGCTATAC   \n",
       "3     62   6.2  63.653        57.979       ATGGATTACTTGACGATCGC   \n",
       "4     61   6.1  64.693        57.979       ATGGATTACTTGACGATCGC   \n",
       "..   ...   ...     ...           ...                        ...   \n",
       "91    20   2.0  56.289        56.289       TTCTCAAGCAAGGTTTTCAG   \n",
       "92    61   6.1  72.322        66.788  AGACGGTCACAGCTTGTCTGTAAGC   \n",
       "93    18   1.8  65.423        65.423         CGTAGTGGGCCATCGCCC   \n",
       "94    63   6.3  66.938        58.341            CACACGACTAGCGCT   \n",
       "95    18   1.8  59.312        59.312           GTGGGAAGATTCCGCT   \n",
       "\n",
       "                                             Sequence Location  \n",
       "0                                  GAGGATTTTCGATGGAGC   o2_I06  \n",
       "1   TAGGTCAGGTTGCTTTCTCAGGTATAGCATGAGGTCGCTCTTGTGG...   o2_I07  \n",
       "2                                 GAGCGACCTCATGCTATAC  op4_A10  \n",
       "3   AGACACACAAACACAAATACACACACTAAATTAATAAAAACAATGG...  op4_A01  \n",
       "4   ACACCAAGCAACTAATACTATAACATACAATAATAAAAACAATGGA...  op4_B01  \n",
       "..                                                ...      ...  \n",
       "91                               TTCTCAAGCAAGGTTTTCAG  op4_B10  \n",
       "92  CGCATGTAACATTATACTGAAAACCTTGCTTGAGAAAGACGGTCAC...  op4_C10  \n",
       "93                                 CGTAGTGGGCCATCGCCC  op4_D10  \n",
       "94  GCGAAAAACCGTCTATCAGGGCGATGGCCCACTACGCACACGACTA...   o2_I08  \n",
       "95                                   GTGGGAAGATTCCGCT   o2_I09  \n",
       "\n",
       "[96 rows x 10 columns]"
      ]
     },
     "execution_count": 166,
     "metadata": {},
     "output_type": "execute_result"
    }
   ],
   "source": [
    "lea_primers = pd.read_excel(\"G8H_CPR_library/data/04-genetic_parts/Teselagen/G8H_CPR_library.xls\", sheet_name = \"all primers\").reset_index(drop=True)\n",
    "lea_primers"
   ]
  },
  {
   "cell_type": "code",
   "execution_count": 167,
   "metadata": {},
   "outputs": [
    {
     "data": {
      "text/plain": [
       "5328"
      ]
     },
     "execution_count": 167,
     "metadata": {},
     "output_type": "execute_result"
    }
   ],
   "source": [
    "Total_bases_teselagen = lea_primers['Size'].sum()\n",
    "Total_bases_teselagen"
   ]
  },
  {
   "cell_type": "code",
   "execution_count": 168,
   "metadata": {},
   "outputs": [
    {
     "name": "stdout",
     "output_type": "stream",
     "text": [
      "The total price of the primers for the library is: 9590\n"
     ]
    }
   ],
   "source": [
    "Total_price = Total_bases_teselagen*1.8\n",
    "print(f\"The total price of the primers for the library is: {Total_price:.0f}\")"
   ]
  },
  {
   "cell_type": "code",
   "execution_count": 169,
   "metadata": {},
   "outputs": [
    {
     "data": {
      "text/plain": [
       "35"
      ]
     },
     "execution_count": 169,
     "metadata": {},
     "output_type": "execute_result"
    }
   ],
   "source": [
    "larger_than_60 = lea_primers[lea_primers.Size > 60]\n",
    "len(larger_than_60)"
   ]
  },
  {
   "cell_type": "code",
   "execution_count": 170,
   "metadata": {},
   "outputs": [
    {
     "data": {
      "text/html": [
       "<div>\n",
       "<style scoped>\n",
       "    .dataframe tbody tr th:only-of-type {\n",
       "        vertical-align: middle;\n",
       "    }\n",
       "\n",
       "    .dataframe tbody tr th {\n",
       "        vertical-align: top;\n",
       "    }\n",
       "\n",
       "    .dataframe thead th {\n",
       "        text-align: right;\n",
       "    }\n",
       "</style>\n",
       "<table border=\"1\" class=\"dataframe\">\n",
       "  <thead>\n",
       "    <tr style=\"text-align: right;\">\n",
       "      <th></th>\n",
       "      <th>Overlaps_to</th>\n",
       "      <th>order</th>\n",
       "      <th>Part</th>\n",
       "      <th>Promoter</th>\n",
       "      <th>Id</th>\n",
       "      <th>Name</th>\n",
       "      <th>Note</th>\n",
       "      <th>Forward Oligo Id</th>\n",
       "      <th>Forward Oligo Name</th>\n",
       "      <th>Reverse Oligo Id</th>\n",
       "      <th>...</th>\n",
       "      <th>Q5_ta</th>\n",
       "      <th>Length</th>\n",
       "      <th>Sequence</th>\n",
       "      <th>Location</th>\n",
       "      <th>Template_location</th>\n",
       "      <th>Template_name</th>\n",
       "      <th>Box_barcode</th>\n",
       "      <th>volume</th>\n",
       "      <th>concentration</th>\n",
       "      <th>Column1</th>\n",
       "    </tr>\n",
       "  </thead>\n",
       "  <tbody>\n",
       "    <tr>\n",
       "      <th>0</th>\n",
       "      <td>pCYC1</td>\n",
       "      <td>1</td>\n",
       "      <td>NaN</td>\n",
       "      <td>NaN</td>\n",
       "      <td>2339</td>\n",
       "      <td>PCR_G8H_01</td>\n",
       "      <td>PCR</td>\n",
       "      <td>3407</td>\n",
       "      <td>PR_G8H_01</td>\n",
       "      <td>3408</td>\n",
       "      <td>...</td>\n",
       "      <td>63</td>\n",
       "      <td>1845</td>\n",
       "      <td>GAGCGACCTCATGCTATACCTGAGAAAGCAACCTGACCTACAGGAA...</td>\n",
       "      <td>l5_A03</td>\n",
       "      <td>NaN</td>\n",
       "      <td>pMIA_087_Vmin_G8O_in_p0057_(TRP)</td>\n",
       "      <td>81BOX762</td>\n",
       "      <td>100.0</td>\n",
       "      <td>40.0</td>\n",
       "      <td>NaN</td>\n",
       "    </tr>\n",
       "    <tr>\n",
       "      <th>1</th>\n",
       "      <td>pENO2</td>\n",
       "      <td>2</td>\n",
       "      <td>NaN</td>\n",
       "      <td>NaN</td>\n",
       "      <td>2340</td>\n",
       "      <td>PCR_G8H_02</td>\n",
       "      <td>PCR</td>\n",
       "      <td>3407</td>\n",
       "      <td>PR_G8H_01</td>\n",
       "      <td>3409</td>\n",
       "      <td>...</td>\n",
       "      <td>63</td>\n",
       "      <td>1844</td>\n",
       "      <td>GAGCGACCTCATGCTATACCTGAGAAAGCAACCTGACCTACAGGAA...</td>\n",
       "      <td>l5_A04</td>\n",
       "      <td>NaN</td>\n",
       "      <td>pMIA_087_Vmin_G8O_in_p0057_(TRP)</td>\n",
       "      <td>81BOX762</td>\n",
       "      <td>100.0</td>\n",
       "      <td>45.0</td>\n",
       "      <td>NaN</td>\n",
       "    </tr>\n",
       "    <tr>\n",
       "      <th>2</th>\n",
       "      <td>pPCK1</td>\n",
       "      <td>3</td>\n",
       "      <td>NaN</td>\n",
       "      <td>NaN</td>\n",
       "      <td>2341</td>\n",
       "      <td>PCR_G8H_03</td>\n",
       "      <td>PCR</td>\n",
       "      <td>3407</td>\n",
       "      <td>PR_G8H_01</td>\n",
       "      <td>3410</td>\n",
       "      <td>...</td>\n",
       "      <td>63</td>\n",
       "      <td>1841</td>\n",
       "      <td>GAGCGACCTCATGCTATACCTGAGAAAGCAACCTGACCTACAGGAA...</td>\n",
       "      <td>l5_A05</td>\n",
       "      <td>NaN</td>\n",
       "      <td>pMIA_087_Vmin_G8O_in_p0057_(TRP)</td>\n",
       "      <td>81BOX762</td>\n",
       "      <td>100.0</td>\n",
       "      <td>40.0</td>\n",
       "      <td>NaN</td>\n",
       "    </tr>\n",
       "    <tr>\n",
       "      <th>3</th>\n",
       "      <td>pRPL15B</td>\n",
       "      <td>4</td>\n",
       "      <td>NaN</td>\n",
       "      <td>NaN</td>\n",
       "      <td>2342</td>\n",
       "      <td>PCR_G8H_04</td>\n",
       "      <td>PCR</td>\n",
       "      <td>3407</td>\n",
       "      <td>PR_G8H_01</td>\n",
       "      <td>3411</td>\n",
       "      <td>...</td>\n",
       "      <td>63</td>\n",
       "      <td>1839</td>\n",
       "      <td>GAGCGACCTCATGCTATACCTGAGAAAGCAACCTGACCTACAGGAA...</td>\n",
       "      <td>l5_A06</td>\n",
       "      <td>NaN</td>\n",
       "      <td>pMIA_087_Vmin_G8O_in_p0057_(TRP)</td>\n",
       "      <td>81BOX762</td>\n",
       "      <td>100.0</td>\n",
       "      <td>45.0</td>\n",
       "      <td>NaN</td>\n",
       "    </tr>\n",
       "    <tr>\n",
       "      <th>4</th>\n",
       "      <td>pCYC1</td>\n",
       "      <td>5</td>\n",
       "      <td>NaN</td>\n",
       "      <td>NaN</td>\n",
       "      <td>2343</td>\n",
       "      <td>PCR_G8H_05</td>\n",
       "      <td>PCR</td>\n",
       "      <td>3407</td>\n",
       "      <td>PR_G8H_01</td>\n",
       "      <td>3412</td>\n",
       "      <td>...</td>\n",
       "      <td>63</td>\n",
       "      <td>1851</td>\n",
       "      <td>GAGCGACCTCATGCTATACCTGAGAAAGCAACCTGACCTACAGGAA...</td>\n",
       "      <td>l5_A07</td>\n",
       "      <td>NaN</td>\n",
       "      <td>pMIA_090_Smus_G8O_in_p0057_(TRP)</td>\n",
       "      <td>81BOX762</td>\n",
       "      <td>100.0</td>\n",
       "      <td>40.0</td>\n",
       "      <td>NaN</td>\n",
       "    </tr>\n",
       "    <tr>\n",
       "      <th>...</th>\n",
       "      <td>...</td>\n",
       "      <td>...</td>\n",
       "      <td>...</td>\n",
       "      <td>...</td>\n",
       "      <td>...</td>\n",
       "      <td>...</td>\n",
       "      <td>...</td>\n",
       "      <td>...</td>\n",
       "      <td>...</td>\n",
       "      <td>...</td>\n",
       "      <td>...</td>\n",
       "      <td>...</td>\n",
       "      <td>...</td>\n",
       "      <td>...</td>\n",
       "      <td>...</td>\n",
       "      <td>...</td>\n",
       "      <td>...</td>\n",
       "      <td>...</td>\n",
       "      <td>...</td>\n",
       "      <td>...</td>\n",
       "      <td>...</td>\n",
       "    </tr>\n",
       "    <tr>\n",
       "      <th>82</th>\n",
       "      <td>pMLS1</td>\n",
       "      <td>83</td>\n",
       "      <td>NaN</td>\n",
       "      <td>NaN</td>\n",
       "      <td>2323</td>\n",
       "      <td>PCR_CPR_25</td>\n",
       "      <td>PCR</td>\n",
       "      <td>3393</td>\n",
       "      <td>PR_CPR_25</td>\n",
       "      <td>3370</td>\n",
       "      <td>...</td>\n",
       "      <td>60</td>\n",
       "      <td>2264</td>\n",
       "      <td>CAAAGTAGTAAAAGCACATAAAAGAATTAAGAAATAAAACAATGGA...</td>\n",
       "      <td>l5_I05</td>\n",
       "      <td>NaN</td>\n",
       "      <td>PL_13_F3_(pRS415U-P2_TEF1-CpoCPR_opt2)</td>\n",
       "      <td>81BOX762</td>\n",
       "      <td>100.0</td>\n",
       "      <td>35.0</td>\n",
       "      <td>NaN</td>\n",
       "    </tr>\n",
       "    <tr>\n",
       "      <th>83</th>\n",
       "      <td>pCCW12</td>\n",
       "      <td>84</td>\n",
       "      <td>NaN</td>\n",
       "      <td>NaN</td>\n",
       "      <td>2333</td>\n",
       "      <td>PCR_CPR_35</td>\n",
       "      <td>PCR</td>\n",
       "      <td>3402</td>\n",
       "      <td>PR_CPR_34</td>\n",
       "      <td>3370</td>\n",
       "      <td>...</td>\n",
       "      <td>60</td>\n",
       "      <td>2259</td>\n",
       "      <td>CTGTCATTCGCTTAAACACTATATCAATATAAAACAATGGATGAAA...</td>\n",
       "      <td>l5_I06</td>\n",
       "      <td>NaN</td>\n",
       "      <td>PL_13_F3_(pRS415U-P2_TEF1-CpoCPR_opt2)</td>\n",
       "      <td>81BOX762</td>\n",
       "      <td>100.0</td>\n",
       "      <td>30.0</td>\n",
       "      <td>NaN</td>\n",
       "    </tr>\n",
       "    <tr>\n",
       "      <th>84</th>\n",
       "      <td>none</td>\n",
       "      <td>85</td>\n",
       "      <td>XI-2_UP</td>\n",
       "      <td>NaN</td>\n",
       "      <td>2383</td>\n",
       "      <td>PCR_UP_tADH1_01</td>\n",
       "      <td>PCR</td>\n",
       "      <td>3460</td>\n",
       "      <td>PR_UP_tADH1_05</td>\n",
       "      <td>3461</td>\n",
       "      <td>...</td>\n",
       "      <td>60</td>\n",
       "      <td>609</td>\n",
       "      <td>GAGGATTTTCGATGGAGCAGGATGAGGAGAAATAGTACCACATGTA...</td>\n",
       "      <td>l5_I08</td>\n",
       "      <td>NaN</td>\n",
       "      <td>DNA extract degron library</td>\n",
       "      <td>81BOX762</td>\n",
       "      <td>100.0</td>\n",
       "      <td>30.0</td>\n",
       "      <td>NaN</td>\n",
       "    </tr>\n",
       "    <tr>\n",
       "      <th>85</th>\n",
       "      <td>none</td>\n",
       "      <td>86</td>\n",
       "      <td>TRP1-marker</td>\n",
       "      <td>NaN</td>\n",
       "      <td>2387</td>\n",
       "      <td>PCR_TRP1-DW_01</td>\n",
       "      <td>PCR</td>\n",
       "      <td>3468</td>\n",
       "      <td>PR_TRP1-DW_01</td>\n",
       "      <td>3469</td>\n",
       "      <td>...</td>\n",
       "      <td>72</td>\n",
       "      <td>1451</td>\n",
       "      <td>CGCATGTAACATTATACTGAAAACCTTGCTTGAGAAAGACGGTCAC...</td>\n",
       "      <td>l5_I07</td>\n",
       "      <td>NaN</td>\n",
       "      <td>pL_01_E8_(pRS414-USER-ccdB)</td>\n",
       "      <td>81BOX762</td>\n",
       "      <td>100.0</td>\n",
       "      <td>155.0</td>\n",
       "      <td>NaN</td>\n",
       "    </tr>\n",
       "    <tr>\n",
       "      <th>86</th>\n",
       "      <td>none</td>\n",
       "      <td>87</td>\n",
       "      <td>XI-2_DW</td>\n",
       "      <td>NaN</td>\n",
       "      <td>2388</td>\n",
       "      <td>PCR_TRP1-DW_02</td>\n",
       "      <td>PCR</td>\n",
       "      <td>3470</td>\n",
       "      <td>PR_TRP1-DW_05</td>\n",
       "      <td>3471</td>\n",
       "      <td>...</td>\n",
       "      <td>62</td>\n",
       "      <td>599</td>\n",
       "      <td>GCGAAAAACCGTCTATCAGGGCGATGGCCCACTACGCACACGACTA...</td>\n",
       "      <td>l5_I09</td>\n",
       "      <td>NaN</td>\n",
       "      <td>DNA extract degron library</td>\n",
       "      <td>81BOX762</td>\n",
       "      <td>100.0</td>\n",
       "      <td>40.0</td>\n",
       "      <td>NaN</td>\n",
       "    </tr>\n",
       "  </tbody>\n",
       "</table>\n",
       "<p>87 rows × 31 columns</p>\n",
       "</div>"
      ],
      "text/plain": [
       "   Overlaps_to  order         Part Promoter    Id             Name Note  \\\n",
       "0        pCYC1      1          NaN      NaN  2339       PCR_G8H_01  PCR   \n",
       "1        pENO2      2          NaN      NaN  2340       PCR_G8H_02  PCR   \n",
       "2        pPCK1      3          NaN      NaN  2341       PCR_G8H_03  PCR   \n",
       "3      pRPL15B      4          NaN      NaN  2342       PCR_G8H_04  PCR   \n",
       "4        pCYC1      5          NaN      NaN  2343       PCR_G8H_05  PCR   \n",
       "..         ...    ...          ...      ...   ...              ...  ...   \n",
       "82       pMLS1     83          NaN      NaN  2323       PCR_CPR_25  PCR   \n",
       "83      pCCW12     84          NaN      NaN  2333       PCR_CPR_35  PCR   \n",
       "84        none     85      XI-2_UP      NaN  2383  PCR_UP_tADH1_01  PCR   \n",
       "85        none     86  TRP1-marker      NaN  2387   PCR_TRP1-DW_01  PCR   \n",
       "86        none     87      XI-2_DW      NaN  2388   PCR_TRP1-DW_02  PCR   \n",
       "\n",
       "    Forward Oligo Id Forward Oligo Name  Reverse Oligo Id  ... Q5_ta  Length  \\\n",
       "0               3407          PR_G8H_01              3408  ...    63    1845   \n",
       "1               3407          PR_G8H_01              3409  ...    63    1844   \n",
       "2               3407          PR_G8H_01              3410  ...    63    1841   \n",
       "3               3407          PR_G8H_01              3411  ...    63    1839   \n",
       "4               3407          PR_G8H_01              3412  ...    63    1851   \n",
       "..               ...                ...               ...  ...   ...     ...   \n",
       "82              3393          PR_CPR_25              3370  ...    60    2264   \n",
       "83              3402          PR_CPR_34              3370  ...    60    2259   \n",
       "84              3460     PR_UP_tADH1_05              3461  ...    60     609   \n",
       "85              3468      PR_TRP1-DW_01              3469  ...    72    1451   \n",
       "86              3470      PR_TRP1-DW_05              3471  ...    62     599   \n",
       "\n",
       "                                             Sequence  Location  \\\n",
       "0   GAGCGACCTCATGCTATACCTGAGAAAGCAACCTGACCTACAGGAA...    l5_A03   \n",
       "1   GAGCGACCTCATGCTATACCTGAGAAAGCAACCTGACCTACAGGAA...    l5_A04   \n",
       "2   GAGCGACCTCATGCTATACCTGAGAAAGCAACCTGACCTACAGGAA...    l5_A05   \n",
       "3   GAGCGACCTCATGCTATACCTGAGAAAGCAACCTGACCTACAGGAA...    l5_A06   \n",
       "4   GAGCGACCTCATGCTATACCTGAGAAAGCAACCTGACCTACAGGAA...    l5_A07   \n",
       "..                                                ...       ...   \n",
       "82  CAAAGTAGTAAAAGCACATAAAAGAATTAAGAAATAAAACAATGGA...    l5_I05   \n",
       "83  CTGTCATTCGCTTAAACACTATATCAATATAAAACAATGGATGAAA...    l5_I06   \n",
       "84  GAGGATTTTCGATGGAGCAGGATGAGGAGAAATAGTACCACATGTA...    l5_I08   \n",
       "85  CGCATGTAACATTATACTGAAAACCTTGCTTGAGAAAGACGGTCAC...    l5_I07   \n",
       "86  GCGAAAAACCGTCTATCAGGGCGATGGCCCACTACGCACACGACTA...    l5_I09   \n",
       "\n",
       "    Template_location                           Template_name Box_barcode  \\\n",
       "0                 NaN        pMIA_087_Vmin_G8O_in_p0057_(TRP)    81BOX762   \n",
       "1                 NaN        pMIA_087_Vmin_G8O_in_p0057_(TRP)    81BOX762   \n",
       "2                 NaN        pMIA_087_Vmin_G8O_in_p0057_(TRP)    81BOX762   \n",
       "3                 NaN        pMIA_087_Vmin_G8O_in_p0057_(TRP)    81BOX762   \n",
       "4                 NaN        pMIA_090_Smus_G8O_in_p0057_(TRP)    81BOX762   \n",
       "..                ...                                     ...         ...   \n",
       "82                NaN  PL_13_F3_(pRS415U-P2_TEF1-CpoCPR_opt2)    81BOX762   \n",
       "83                NaN  PL_13_F3_(pRS415U-P2_TEF1-CpoCPR_opt2)    81BOX762   \n",
       "84                NaN              DNA extract degron library    81BOX762   \n",
       "85                NaN             pL_01_E8_(pRS414-USER-ccdB)    81BOX762   \n",
       "86                NaN              DNA extract degron library    81BOX762   \n",
       "\n",
       "    volume  concentration  Column1  \n",
       "0    100.0           40.0      NaN  \n",
       "1    100.0           45.0      NaN  \n",
       "2    100.0           40.0      NaN  \n",
       "3    100.0           45.0      NaN  \n",
       "4    100.0           40.0      NaN  \n",
       "..     ...            ...      ...  \n",
       "82   100.0           35.0      NaN  \n",
       "83   100.0           30.0      NaN  \n",
       "84   100.0           30.0      NaN  \n",
       "85   100.0          155.0      NaN  \n",
       "86   100.0           40.0      NaN  \n",
       "\n",
       "[87 rows x 31 columns]"
      ]
     },
     "execution_count": 170,
     "metadata": {},
     "output_type": "execute_result"
    }
   ],
   "source": [
    "lea_parts = pd.read_excel(\"G8H_CPR_library/data/04-genetic_parts/Teselagen/G8H_CPR_library.xls\", sheet_name = \"all parts\").reset_index(drop=True)\n",
    "lea_parts"
   ]
  },
  {
   "attachments": {},
   "cell_type": "markdown",
   "metadata": {},
   "source": [
    "Because the software of teselagen has been tested before we decided to move on with the Teselagen library. "
   ]
  },
  {
   "attachments": {},
   "cell_type": "markdown",
   "metadata": {
    "id": "59352723-a467-4a7b-b0a4-0b02ee0c19ec"
   },
   "source": [
    "# 4. Robotassembly "
   ]
  },
  {
   "attachments": {},
   "cell_type": "markdown",
   "metadata": {
    "id": "4e72cbc4-03f4-4d1a-bc32-fa0e891e893b"
   },
   "source": [
    "Here I show how to make robot instructions with the RobotAssembly class. "
   ]
  },
  {
   "attachments": {},
   "cell_type": "markdown",
   "metadata": {
    "id": "192c0cd3-b2d1-4bae-bb83-25e3093d2fb0"
   },
   "source": [
    "The RobotAssembly is made from a already configured plates and a dataframe holding the information about the contents of the PCRs needed to be performed. With this method a subset of all the PCRs can be chosen from the DesignAssembly dataframe and made seperately. The workflow is as follows: "
   ]
  },
  {
   "cell_type": "code",
   "execution_count": 171,
   "metadata": {
    "colab": {
     "base_uri": "https://localhost:8080/",
     "height": 720
    },
    "id": "ec936873-3c9e-4489-8d5c-0c027996d879",
    "outputId": "6c193cbe-48ff-4f29-cb6d-9f4b4235b4bc"
   },
   "outputs": [
    {
     "data": {
      "image/png": "[encoded data removed]",
      "text/plain": [
       "<IPython.core.display.Image object>"
      ]
     },
     "execution_count": 171,
     "metadata": {},
     "output_type": "execute_result"
    }
   ],
   "source": [
    "display.Image('G8H_CPR_library/pictures/ROBOTassembly.png')"
   ]
  },
  {
   "attachments": {},
   "cell_type": "markdown",
   "metadata": {
    "id": "49b5dbef-8272-47b9-b67b-06cd9c453ee6"
   },
   "source": [
    "As an example we can make some virtual plates from the list of primers and templates"
   ]
  },
  {
   "attachments": {},
   "cell_type": "markdown",
   "metadata": {
    "id": "120c8c4c-2fbe-4172-89b1-a93fca444b7f"
   },
   "source": [
    "We can for example choose the promoter MSL1 and generate a picklist for that. We can slice it from the PCR dataframe like such: "
   ]
  },
  {
   "cell_type": "code",
   "execution_count": 172,
   "metadata": {
    "colab": {
     "base_uri": "https://localhost:8080/",
     "height": 175
    },
    "id": "2267d457-0161-48b7-bbaa-be2981123207",
    "outputId": "64ba085b-afee-4ab2-8ca4-3524639fbb12"
   },
   "outputs": [
    {
     "data": {
      "text/html": [
       "<div>\n",
       "<style scoped>\n",
       "    .dataframe tbody tr th:only-of-type {\n",
       "        vertical-align: middle;\n",
       "    }\n",
       "\n",
       "    .dataframe tbody tr th {\n",
       "        vertical-align: top;\n",
       "    }\n",
       "\n",
       "    .dataframe thead th {\n",
       "        text-align: right;\n",
       "    }\n",
       "</style>\n",
       "<table border=\"1\" class=\"dataframe\">\n",
       "  <thead>\n",
       "    <tr style=\"text-align: right;\">\n",
       "      <th></th>\n",
       "      <th>pcr_number</th>\n",
       "      <th>template</th>\n",
       "      <th>forward_primer</th>\n",
       "      <th>reverse_primer</th>\n",
       "      <th>f_tm</th>\n",
       "      <th>r_tm</th>\n",
       "    </tr>\n",
       "  </thead>\n",
       "  <tbody>\n",
       "    <tr>\n",
       "      <th>3</th>\n",
       "      <td>PCR4</td>\n",
       "      <td>pMLS1</td>\n",
       "      <td>P007</td>\n",
       "      <td>P008</td>\n",
       "      <td>56.11</td>\n",
       "      <td>56.18</td>\n",
       "    </tr>\n",
       "    <tr>\n",
       "      <th>7</th>\n",
       "      <td>PCR8</td>\n",
       "      <td>pMLS1</td>\n",
       "      <td>P007</td>\n",
       "      <td>P015</td>\n",
       "      <td>56.11</td>\n",
       "      <td>56.18</td>\n",
       "    </tr>\n",
       "    <tr>\n",
       "      <th>11</th>\n",
       "      <td>PCR12</td>\n",
       "      <td>pMLS1</td>\n",
       "      <td>P007</td>\n",
       "      <td>P021</td>\n",
       "      <td>56.11</td>\n",
       "      <td>56.18</td>\n",
       "    </tr>\n",
       "    <tr>\n",
       "      <th>16</th>\n",
       "      <td>PCR17</td>\n",
       "      <td>pMLS1</td>\n",
       "      <td>P007</td>\n",
       "      <td>P025</td>\n",
       "      <td>56.11</td>\n",
       "      <td>56.18</td>\n",
       "    </tr>\n",
       "    <tr>\n",
       "      <th>56</th>\n",
       "      <td>PCR57</td>\n",
       "      <td>pMLS1</td>\n",
       "      <td>P067</td>\n",
       "      <td>P008</td>\n",
       "      <td>56.11</td>\n",
       "      <td>56.18</td>\n",
       "    </tr>\n",
       "    <tr>\n",
       "      <th>57</th>\n",
       "      <td>PCR58</td>\n",
       "      <td>pMLS1</td>\n",
       "      <td>P067</td>\n",
       "      <td>P015</td>\n",
       "      <td>56.11</td>\n",
       "      <td>56.18</td>\n",
       "    </tr>\n",
       "    <tr>\n",
       "      <th>58</th>\n",
       "      <td>PCR59</td>\n",
       "      <td>pMLS1</td>\n",
       "      <td>P067</td>\n",
       "      <td>P021</td>\n",
       "      <td>56.11</td>\n",
       "      <td>56.18</td>\n",
       "    </tr>\n",
       "    <tr>\n",
       "      <th>59</th>\n",
       "      <td>PCR60</td>\n",
       "      <td>pMLS1</td>\n",
       "      <td>P067</td>\n",
       "      <td>P025</td>\n",
       "      <td>56.11</td>\n",
       "      <td>56.18</td>\n",
       "    </tr>\n",
       "    <tr>\n",
       "      <th>77</th>\n",
       "      <td>PCR78</td>\n",
       "      <td>pMLS1</td>\n",
       "      <td>P077</td>\n",
       "      <td>P008</td>\n",
       "      <td>56.11</td>\n",
       "      <td>56.18</td>\n",
       "    </tr>\n",
       "    <tr>\n",
       "      <th>78</th>\n",
       "      <td>PCR79</td>\n",
       "      <td>pMLS1</td>\n",
       "      <td>P077</td>\n",
       "      <td>P015</td>\n",
       "      <td>56.11</td>\n",
       "      <td>56.18</td>\n",
       "    </tr>\n",
       "    <tr>\n",
       "      <th>79</th>\n",
       "      <td>PCR80</td>\n",
       "      <td>pMLS1</td>\n",
       "      <td>P077</td>\n",
       "      <td>P021</td>\n",
       "      <td>56.11</td>\n",
       "      <td>56.18</td>\n",
       "    </tr>\n",
       "    <tr>\n",
       "      <th>80</th>\n",
       "      <td>PCR81</td>\n",
       "      <td>pMLS1</td>\n",
       "      <td>P077</td>\n",
       "      <td>P025</td>\n",
       "      <td>56.11</td>\n",
       "      <td>56.18</td>\n",
       "    </tr>\n",
       "    <tr>\n",
       "      <th>98</th>\n",
       "      <td>PCR99</td>\n",
       "      <td>pMLS1</td>\n",
       "      <td>P087</td>\n",
       "      <td>P008</td>\n",
       "      <td>56.11</td>\n",
       "      <td>56.18</td>\n",
       "    </tr>\n",
       "    <tr>\n",
       "      <th>99</th>\n",
       "      <td>PCR100</td>\n",
       "      <td>pMLS1</td>\n",
       "      <td>P087</td>\n",
       "      <td>P015</td>\n",
       "      <td>56.11</td>\n",
       "      <td>56.18</td>\n",
       "    </tr>\n",
       "    <tr>\n",
       "      <th>100</th>\n",
       "      <td>PCR101</td>\n",
       "      <td>pMLS1</td>\n",
       "      <td>P087</td>\n",
       "      <td>P021</td>\n",
       "      <td>56.11</td>\n",
       "      <td>56.18</td>\n",
       "    </tr>\n",
       "    <tr>\n",
       "      <th>101</th>\n",
       "      <td>PCR102</td>\n",
       "      <td>pMLS1</td>\n",
       "      <td>P087</td>\n",
       "      <td>P025</td>\n",
       "      <td>56.11</td>\n",
       "      <td>56.18</td>\n",
       "    </tr>\n",
       "  </tbody>\n",
       "</table>\n",
       "</div>"
      ],
      "text/plain": [
       "    pcr_number template forward_primer reverse_primer   f_tm   r_tm\n",
       "3         PCR4    pMLS1           P007           P008  56.11  56.18\n",
       "7         PCR8    pMLS1           P007           P015  56.11  56.18\n",
       "11       PCR12    pMLS1           P007           P021  56.11  56.18\n",
       "16       PCR17    pMLS1           P007           P025  56.11  56.18\n",
       "56       PCR57    pMLS1           P067           P008  56.11  56.18\n",
       "57       PCR58    pMLS1           P067           P015  56.11  56.18\n",
       "58       PCR59    pMLS1           P067           P021  56.11  56.18\n",
       "59       PCR60    pMLS1           P067           P025  56.11  56.18\n",
       "77       PCR78    pMLS1           P077           P008  56.11  56.18\n",
       "78       PCR79    pMLS1           P077           P015  56.11  56.18\n",
       "79       PCR80    pMLS1           P077           P021  56.11  56.18\n",
       "80       PCR81    pMLS1           P077           P025  56.11  56.18\n",
       "98       PCR99    pMLS1           P087           P008  56.11  56.18\n",
       "99      PCR100    pMLS1           P087           P015  56.11  56.18\n",
       "100     PCR101    pMLS1           P087           P021  56.11  56.18\n",
       "101     PCR102    pMLS1           P087           P025  56.11  56.18"
      ]
     },
     "execution_count": 172,
     "metadata": {},
     "output_type": "execute_result"
    }
   ],
   "source": [
    "only_a_subset_templates = G8H_pcr_df.loc[G8H_pcr_df['template']== 'pMLS1']\n",
    "#only_a_subset_templates.columns = ['pcr_number',\t'Template',\t'F_primer',\t'Reverse_primer',\t'f_tm',\t'r_tm']\n",
    "only_a_subset_templates"
   ]
  },
  {
   "attachments": {},
   "cell_type": "markdown",
   "metadata": {
    "id": "20aea09f-e085-4d73-af1f-558a11a28ec7"
   },
   "source": [
    "This step is just to make virtual plate of primers that we generated earlier. These lists that are generated should be made from actual plates in the lab but this serves as an example how it could look like:"
   ]
  },
  {
   "cell_type": "code",
   "execution_count": 173,
   "metadata": {},
   "outputs": [
    {
     "data": {
      "text/html": [
       "<div>\n",
       "<style scoped>\n",
       "    .dataframe tbody tr th:only-of-type {\n",
       "        vertical-align: middle;\n",
       "    }\n",
       "\n",
       "    .dataframe tbody tr th {\n",
       "        vertical-align: top;\n",
       "    }\n",
       "\n",
       "    .dataframe thead th {\n",
       "        text-align: right;\n",
       "    }\n",
       "</style>\n",
       "<table border=\"1\" class=\"dataframe\">\n",
       "  <thead>\n",
       "    <tr style=\"text-align: right;\">\n",
       "      <th></th>\n",
       "      <th>pcr_number</th>\n",
       "      <th>template</th>\n",
       "      <th>forward_primer</th>\n",
       "      <th>reverse_primer</th>\n",
       "      <th>f_tm</th>\n",
       "      <th>r_tm</th>\n",
       "    </tr>\n",
       "  </thead>\n",
       "  <tbody>\n",
       "    <tr>\n",
       "      <th>0</th>\n",
       "      <td>PCR1</td>\n",
       "      <td>UP_XI-2</td>\n",
       "      <td>P001</td>\n",
       "      <td>P002</td>\n",
       "      <td>53.32</td>\n",
       "      <td>52.27</td>\n",
       "    </tr>\n",
       "    <tr>\n",
       "      <th>1</th>\n",
       "      <td>PCR2</td>\n",
       "      <td>CcalG8H_tADH1</td>\n",
       "      <td>P003</td>\n",
       "      <td>P004</td>\n",
       "      <td>55.96</td>\n",
       "      <td>56.54</td>\n",
       "    </tr>\n",
       "    <tr>\n",
       "      <th>2</th>\n",
       "      <td>PCR3</td>\n",
       "      <td>pCYC1</td>\n",
       "      <td>P005</td>\n",
       "      <td>P006</td>\n",
       "      <td>55.12</td>\n",
       "      <td>54.69</td>\n",
       "    </tr>\n",
       "    <tr>\n",
       "      <th>3</th>\n",
       "      <td>PCR4</td>\n",
       "      <td>pMLS1</td>\n",
       "      <td>P007</td>\n",
       "      <td>P008</td>\n",
       "      <td>56.11</td>\n",
       "      <td>56.18</td>\n",
       "    </tr>\n",
       "    <tr>\n",
       "      <th>4</th>\n",
       "      <td>PCR5</td>\n",
       "      <td>AhuCPR_tCYC1</td>\n",
       "      <td>P009</td>\n",
       "      <td>P010</td>\n",
       "      <td>53.04</td>\n",
       "      <td>53.50</td>\n",
       "    </tr>\n",
       "    <tr>\n",
       "      <th>...</th>\n",
       "      <td>...</td>\n",
       "      <td>...</td>\n",
       "      <td>...</td>\n",
       "      <td>...</td>\n",
       "      <td>...</td>\n",
       "      <td>...</td>\n",
       "    </tr>\n",
       "    <tr>\n",
       "      <th>147</th>\n",
       "      <td>PCR148</td>\n",
       "      <td>UP_XI-2</td>\n",
       "      <td>P001</td>\n",
       "      <td>P110</td>\n",
       "      <td>53.32</td>\n",
       "      <td>52.27</td>\n",
       "    </tr>\n",
       "    <tr>\n",
       "      <th>148</th>\n",
       "      <td>PCR149</td>\n",
       "      <td>OeuG8H_tADH1</td>\n",
       "      <td>P111</td>\n",
       "      <td>P098</td>\n",
       "      <td>54.02</td>\n",
       "      <td>54.40</td>\n",
       "    </tr>\n",
       "    <tr>\n",
       "      <th>149</th>\n",
       "      <td>PCR150</td>\n",
       "      <td>OeuG8H_tADH1</td>\n",
       "      <td>P111</td>\n",
       "      <td>P099</td>\n",
       "      <td>54.02</td>\n",
       "      <td>54.40</td>\n",
       "    </tr>\n",
       "    <tr>\n",
       "      <th>150</th>\n",
       "      <td>PCR151</td>\n",
       "      <td>OeuG8H_tADH1</td>\n",
       "      <td>P111</td>\n",
       "      <td>P100</td>\n",
       "      <td>54.02</td>\n",
       "      <td>54.40</td>\n",
       "    </tr>\n",
       "    <tr>\n",
       "      <th>151</th>\n",
       "      <td>PCR152</td>\n",
       "      <td>OeuG8H_tADH1</td>\n",
       "      <td>P111</td>\n",
       "      <td>P101</td>\n",
       "      <td>54.02</td>\n",
       "      <td>54.40</td>\n",
       "    </tr>\n",
       "  </tbody>\n",
       "</table>\n",
       "<p>152 rows × 6 columns</p>\n",
       "</div>"
      ],
      "text/plain": [
       "    pcr_number       template forward_primer reverse_primer   f_tm   r_tm\n",
       "0         PCR1        UP_XI-2           P001           P002  53.32  52.27\n",
       "1         PCR2  CcalG8H_tADH1           P003           P004  55.96  56.54\n",
       "2         PCR3          pCYC1           P005           P006  55.12  54.69\n",
       "3         PCR4          pMLS1           P007           P008  56.11  56.18\n",
       "4         PCR5   AhuCPR_tCYC1           P009           P010  53.04  53.50\n",
       "..         ...            ...            ...            ...    ...    ...\n",
       "147     PCR148        UP_XI-2           P001           P110  53.32  52.27\n",
       "148     PCR149   OeuG8H_tADH1           P111           P098  54.02  54.40\n",
       "149     PCR150   OeuG8H_tADH1           P111           P099  54.02  54.40\n",
       "150     PCR151   OeuG8H_tADH1           P111           P100  54.02  54.40\n",
       "151     PCR152   OeuG8H_tADH1           P111           P101  54.02  54.40\n",
       "\n",
       "[152 rows x 6 columns]"
      ]
     },
     "execution_count": 173,
     "metadata": {},
     "output_type": "execute_result"
    }
   ],
   "source": [
    "G8H_assembly.pcr_list_to_dataframe()"
   ]
  },
  {
   "cell_type": "code",
   "execution_count": 174,
   "metadata": {},
   "outputs": [],
   "source": [
    "fwd_primers= G8H_assembly.pcr_list_to_dataframe()['forward_primer'].to_list()\n",
    "rev_primers= G8H_assembly.pcr_list_to_dataframe()['reverse_primer'].to_list()\n",
    "templates = list(G8H_assembly.pcr_list_to_dataframe()['template'].unique())"
   ]
  },
  {
   "attachments": {},
   "cell_type": "markdown",
   "metadata": {
    "id": "33418ec6-94fd-4781-bf0f-46d1e79bae68"
   },
   "source": [
    "These are all primers needed to construct the SLS library. We can take a subset of them (96) and make virtual plates and generate the instructions. "
   ]
  },
  {
   "cell_type": "code",
   "execution_count": 175,
   "metadata": {
    "id": "5bd1b388-9959-4608-a241-269c42cd50fe"
   },
   "outputs": [],
   "source": [
    "f_primers = fwd_primers[:96]\n",
    "r_primers = rev_primers[:96]\n",
    "templates = templates[:96]"
   ]
  },
  {
   "cell_type": "code",
   "execution_count": 176,
   "metadata": {
    "id": "dE_mjUgfChhl"
   },
   "outputs": [],
   "source": [
    "from teemi.build.robot_assembly import RobotAssembly"
   ]
  },
  {
   "cell_type": "code",
   "execution_count": 177,
   "metadata": {
    "id": "bd9c356f-bf50-4566-bae3-99b982000de6",
    "tags": []
   },
   "outputs": [],
   "source": [
    "Robot_intstructions_test = RobotAssembly(Pandas_dataframe_PCR = only_a_subset_templates, F_primers=f_primers, R_primers = r_primers, Templates= templates)"
   ]
  },
  {
   "attachments": {},
   "cell_type": "markdown",
   "metadata": {
    "id": "cf3c65cd-fad2-4eb2-9d55-29fae195ee41"
   },
   "source": [
    "Now a good thing to do is look at the virtual plates that we have generated with the RobotAssembly object. It can be done in a few ways but here are 2: \n",
    "\n",
    "1. Each plate can be accessed an made into a dataframe\n",
    "2. All the plates can be printed at once. \n",
    "\n"
   ]
  },
  {
   "cell_type": "code",
   "execution_count": 178,
   "metadata": {
    "colab": {
     "base_uri": "https://localhost:8080/",
     "height": 424
    },
    "id": "c843fdb8-58d6-4e3d-8bd6-883a2eb0d70d",
    "outputId": "1abb6bcf-a7de-42f7-f450-106180d69de6"
   },
   "outputs": [
    {
     "data": {
      "text/html": [
       "<div>\n",
       "<style scoped>\n",
       "    .dataframe tbody tr th:only-of-type {\n",
       "        vertical-align: middle;\n",
       "    }\n",
       "\n",
       "    .dataframe tbody tr th {\n",
       "        vertical-align: top;\n",
       "    }\n",
       "\n",
       "    .dataframe thead th {\n",
       "        text-align: right;\n",
       "    }\n",
       "</style>\n",
       "<table border=\"1\" class=\"dataframe\">\n",
       "  <thead>\n",
       "    <tr style=\"text-align: right;\">\n",
       "      <th></th>\n",
       "      <th>name</th>\n",
       "      <th>content</th>\n",
       "      <th>row</th>\n",
       "      <th>column</th>\n",
       "    </tr>\n",
       "  </thead>\n",
       "  <tbody>\n",
       "    <tr>\n",
       "      <th>A1</th>\n",
       "      <td>A1</td>\n",
       "      <td>{'volume': 5.0, 'quantities': {'P001': 1}}</td>\n",
       "      <td>1</td>\n",
       "      <td>1</td>\n",
       "    </tr>\n",
       "    <tr>\n",
       "      <th>A2</th>\n",
       "      <td>A2</td>\n",
       "      <td>{'volume': 5.0, 'quantities': {'P003': 1}}</td>\n",
       "      <td>1</td>\n",
       "      <td>2</td>\n",
       "    </tr>\n",
       "    <tr>\n",
       "      <th>A3</th>\n",
       "      <td>A3</td>\n",
       "      <td>{'volume': 5.0, 'quantities': {'P005': 1}}</td>\n",
       "      <td>1</td>\n",
       "      <td>3</td>\n",
       "    </tr>\n",
       "    <tr>\n",
       "      <th>A4</th>\n",
       "      <td>A4</td>\n",
       "      <td>{'volume': 5.0, 'quantities': {'P007': 1}}</td>\n",
       "      <td>1</td>\n",
       "      <td>4</td>\n",
       "    </tr>\n",
       "    <tr>\n",
       "      <th>A5</th>\n",
       "      <td>A5</td>\n",
       "      <td>{'volume': 5.0, 'quantities': {'P009': 1}}</td>\n",
       "      <td>1</td>\n",
       "      <td>5</td>\n",
       "    </tr>\n",
       "    <tr>\n",
       "      <th>...</th>\n",
       "      <td>...</td>\n",
       "      <td>...</td>\n",
       "      <td>...</td>\n",
       "      <td>...</td>\n",
       "    </tr>\n",
       "    <tr>\n",
       "      <th>H8</th>\n",
       "      <td>H8</td>\n",
       "      <td>{'volume': 5.0, 'quantities': {'P075': 1}}</td>\n",
       "      <td>8</td>\n",
       "      <td>8</td>\n",
       "    </tr>\n",
       "    <tr>\n",
       "      <th>H9</th>\n",
       "      <td>H9</td>\n",
       "      <td>{'volume': 5.0, 'quantities': {'P083': 1}}</td>\n",
       "      <td>8</td>\n",
       "      <td>9</td>\n",
       "    </tr>\n",
       "    <tr>\n",
       "      <th>H10</th>\n",
       "      <td>H10</td>\n",
       "      <td>{'volume': 5.0, 'quantities': {'P083': 1}}</td>\n",
       "      <td>8</td>\n",
       "      <td>10</td>\n",
       "    </tr>\n",
       "    <tr>\n",
       "      <th>H11</th>\n",
       "      <td>H11</td>\n",
       "      <td>{'volume': 5.0, 'quantities': {'P083': 1}}</td>\n",
       "      <td>8</td>\n",
       "      <td>11</td>\n",
       "    </tr>\n",
       "    <tr>\n",
       "      <th>H12</th>\n",
       "      <td>H12</td>\n",
       "      <td>{'volume': 5.0, 'quantities': {'P083': 1}}</td>\n",
       "      <td>8</td>\n",
       "      <td>12</td>\n",
       "    </tr>\n",
       "  </tbody>\n",
       "</table>\n",
       "<p>96 rows × 4 columns</p>\n",
       "</div>"
      ],
      "text/plain": [
       "    name                                     content row column\n",
       "A1    A1  {'volume': 5.0, 'quantities': {'P001': 1}}   1      1\n",
       "A2    A2  {'volume': 5.0, 'quantities': {'P003': 1}}   1      2\n",
       "A3    A3  {'volume': 5.0, 'quantities': {'P005': 1}}   1      3\n",
       "A4    A4  {'volume': 5.0, 'quantities': {'P007': 1}}   1      4\n",
       "A5    A5  {'volume': 5.0, 'quantities': {'P009': 1}}   1      5\n",
       "..   ...                                         ...  ..    ...\n",
       "H8    H8  {'volume': 5.0, 'quantities': {'P075': 1}}   8      8\n",
       "H9    H9  {'volume': 5.0, 'quantities': {'P083': 1}}   8      9\n",
       "H10  H10  {'volume': 5.0, 'quantities': {'P083': 1}}   8     10\n",
       "H11  H11  {'volume': 5.0, 'quantities': {'P083': 1}}   8     11\n",
       "H12  H12  {'volume': 5.0, 'quantities': {'P083': 1}}   8     12\n",
       "\n",
       "[96 rows x 4 columns]"
      ]
     },
     "execution_count": 178,
     "metadata": {},
     "output_type": "execute_result"
    }
   ],
   "source": [
    "# source_plateF_primers is a class instance and can be access like this: \n",
    "Robot_intstructions_test.source_plateF_primers.to_pandas_dataframe()"
   ]
  },
  {
   "attachments": {},
   "cell_type": "markdown",
   "metadata": {
    "id": "c43031a2-d4ff-4948-bef8-49381a3f44a9"
   },
   "source": [
    "With the *print_well_df_to_string* method we can print all the wells in one go. \n"
   ]
  },
  {
   "attachments": {},
   "cell_type": "markdown",
   "metadata": {
    "id": "6d5b2214-a217-48ea-aff1-f9ce8b594e7f"
   },
   "source": [
    "Lets check out the picklist generated for the PCR reactions we made in FLOWBOT INSTRUCTIONS\n",
    "\n",
    "The first number from the source and target columns indicate which plate the action is performed on, followed by which well. \n",
    "\n",
    "So this: \n",
    "\n",
    "source, target, volume\n",
    "1:A4, 5:A1, 1 \n",
    "\n",
    "means that plate 1, well A4 is transferd to target plate 5, A1 and the volume is 1. "
   ]
  },
  {
   "cell_type": "code",
   "execution_count": 179,
   "metadata": {
    "id": "6HxnWJHMrD1d"
   },
   "outputs": [],
   "source": [
    "from teemi.build.robot_assembly import LiquidHandler"
   ]
  },
  {
   "cell_type": "code",
   "execution_count": 180,
   "metadata": {
    "colab": {
     "base_uri": "https://localhost:8080/"
    },
    "id": "EzYx1c81rBGO",
    "outputId": "0bd1c53a-edde-435e-f5eb-00d4cfafa8b4"
   },
   "outputs": [
    {
     "name": "stdout",
     "output_type": "stream",
     "text": [
      "Transfer 1.00E+00L from 1 A4 into 5 A1\n",
      "Transfer 1.00E+00L from 1 A8 into 5 A1\n",
      "Transfer 1.00E+00L from 1 A12 into 5 A1\n",
      "Transfer 1.00E+00L from 1 B5 into 5 A1\n",
      "Transfer 1.00E+00L from 2 A4 into 5 A1\n",
      "Transfer 1.00E+00L from 2 E9 into 5 A1\n",
      "Transfer 1.00E+00L from 2 G6 into 5 A1\n",
      "Transfer 1.00E+00L from 3 A4 into 5 A1\n",
      "Transfer 1.00E+01L from 4 A1 into 5 A1\n",
      "Transfer 7.00E+00L from 4 A2 into 5 A1\n",
      "Transfer 1.00E+00L from 1 A4 into 5 A2\n",
      "Transfer 1.00E+00L from 1 A8 into 5 A2\n",
      "Transfer 1.00E+00L from 1 A12 into 5 A2\n",
      "Transfer 1.00E+00L from 1 B5 into 5 A2\n",
      "Transfer 1.00E+00L from 2 A8 into 5 A2\n",
      "Transfer 1.00E+00L from 2 E10 into 5 A2\n",
      "Transfer 1.00E+00L from 2 G7 into 5 A2\n",
      "Transfer 1.00E+00L from 3 A4 into 5 A2\n",
      "Transfer 1.00E+01L from 4 A1 into 5 A2\n",
      "Transfer 7.00E+00L from 4 A2 into 5 A2\n",
      "Transfer 1.00E+00L from 1 A4 into 5 A3\n",
      "Transfer 1.00E+00L from 1 A8 into 5 A3\n",
      "Transfer 1.00E+00L from 1 A12 into 5 A3\n",
      "Transfer 1.00E+00L from 1 B5 into 5 A3\n",
      "Transfer 1.00E+00L from 2 A12 into 5 A3\n",
      "Transfer 1.00E+00L from 2 E11 into 5 A3\n",
      "Transfer 1.00E+00L from 2 G8 into 5 A3\n",
      "Transfer 1.00E+00L from 3 A4 into 5 A3\n",
      "Transfer 1.00E+01L from 4 A1 into 5 A3\n",
      "Transfer 7.00E+00L from 4 A2 into 5 A3\n",
      "Transfer 1.00E+00L from 1 A4 into 5 A4\n",
      "Transfer 1.00E+00L from 1 A8 into 5 A4\n",
      "Transfer 1.00E+00L from 1 A12 into 5 A4\n",
      "Transfer 1.00E+00L from 1 B5 into 5 A4\n",
      "Transfer 1.00E+00L from 2 B5 into 5 A4\n",
      "Transfer 1.00E+00L from 2 E12 into 5 A4\n",
      "Transfer 1.00E+00L from 2 G9 into 5 A4\n",
      "Transfer 1.00E+00L from 3 A4 into 5 A4\n",
      "Transfer 1.00E+01L from 4 A1 into 5 A4\n",
      "Transfer 7.00E+00L from 4 A2 into 5 A4\n",
      "Transfer 1.00E+00L from 1 E9 into 5 A5\n",
      "Transfer 1.00E+00L from 1 E10 into 5 A5\n",
      "Transfer 1.00E+00L from 1 E11 into 5 A5\n",
      "Transfer 1.00E+00L from 1 E12 into 5 A5\n",
      "Transfer 1.00E+00L from 2 A4 into 5 A5\n",
      "Transfer 1.00E+00L from 2 E9 into 5 A5\n",
      "Transfer 1.00E+00L from 2 G6 into 5 A5\n",
      "Transfer 1.00E+00L from 3 A4 into 5 A5\n",
      "Transfer 1.00E+01L from 4 A1 into 5 A5\n",
      "Transfer 7.00E+00L from 4 A2 into 5 A5\n",
      "Transfer 1.00E+00L from 1 E9 into 5 A6\n",
      "Transfer 1.00E+00L from 1 E10 into 5 A6\n",
      "Transfer 1.00E+00L from 1 E11 into 5 A6\n",
      "Transfer 1.00E+00L from 1 E12 into 5 A6\n",
      "Transfer 1.00E+00L from 2 A8 into 5 A6\n",
      "Transfer 1.00E+00L from 2 E10 into 5 A6\n",
      "Transfer 1.00E+00L from 2 G7 into 5 A6\n",
      "Transfer 1.00E+00L from 3 A4 into 5 A6\n",
      "Transfer 1.00E+01L from 4 A1 into 5 A6\n",
      "Transfer 7.00E+00L from 4 A2 into 5 A6\n",
      "Transfer 1.00E+00L from 1 E9 into 5 A7\n",
      "Transfer 1.00E+00L from 1 E10 into 5 A7\n",
      "Transfer 1.00E+00L from 1 E11 into 5 A7\n",
      "Transfer 1.00E+00L from 1 E12 into 5 A7\n",
      "Transfer 1.00E+00L from 2 A12 into 5 A7\n",
      "Transfer 1.00E+00L from 2 E11 into 5 A7\n",
      "Transfer 1.00E+00L from 2 G8 into 5 A7\n",
      "Transfer 1.00E+00L from 3 A4 into 5 A7\n",
      "Transfer 1.00E+01L from 4 A1 into 5 A7\n",
      "Transfer 7.00E+00L from 4 A2 into 5 A7\n",
      "Transfer 1.00E+00L from 1 E9 into 5 A8\n",
      "Transfer 1.00E+00L from 1 E10 into 5 A8\n",
      "Transfer 1.00E+00L from 1 E11 into 5 A8\n",
      "Transfer 1.00E+00L from 1 E12 into 5 A8\n",
      "Transfer 1.00E+00L from 2 B5 into 5 A8\n",
      "Transfer 1.00E+00L from 2 E12 into 5 A8\n",
      "Transfer 1.00E+00L from 2 G9 into 5 A8\n",
      "Transfer 1.00E+00L from 3 A4 into 5 A8\n",
      "Transfer 1.00E+01L from 4 A1 into 5 A8\n",
      "Transfer 7.00E+00L from 4 A2 into 5 A8\n",
      "Transfer 1.00E+00L from 1 G6 into 5 A9\n",
      "Transfer 1.00E+00L from 1 G7 into 5 A9\n",
      "Transfer 1.00E+00L from 1 G8 into 5 A9\n",
      "Transfer 1.00E+00L from 1 G9 into 5 A9\n",
      "Transfer 1.00E+00L from 2 A4 into 5 A9\n",
      "Transfer 1.00E+00L from 2 E9 into 5 A9\n",
      "Transfer 1.00E+00L from 2 G6 into 5 A9\n",
      "Transfer 1.00E+00L from 3 A4 into 5 A9\n",
      "Transfer 1.00E+01L from 4 A1 into 5 A9\n",
      "Transfer 7.00E+00L from 4 A2 into 5 A9\n",
      "Transfer 1.00E+00L from 1 G6 into 5 A10\n",
      "Transfer 1.00E+00L from 1 G7 into 5 A10\n",
      "Transfer 1.00E+00L from 1 G8 into 5 A10\n",
      "Transfer 1.00E+00L from 1 G9 into 5 A10\n",
      "Transfer 1.00E+00L from 2 A8 into 5 A10\n",
      "Transfer 1.00E+00L from 2 E10 into 5 A10\n",
      "Transfer 1.00E+00L from 2 G7 into 5 A10\n",
      "Transfer 1.00E+00L from 3 A4 into 5 A10\n",
      "Transfer 1.00E+01L from 4 A1 into 5 A10\n",
      "Transfer 7.00E+00L from 4 A2 into 5 A10\n",
      "Transfer 1.00E+00L from 1 G6 into 5 A11\n",
      "Transfer 1.00E+00L from 1 G7 into 5 A11\n",
      "Transfer 1.00E+00L from 1 G8 into 5 A11\n",
      "Transfer 1.00E+00L from 1 G9 into 5 A11\n",
      "Transfer 1.00E+00L from 2 A12 into 5 A11\n",
      "Transfer 1.00E+00L from 2 E11 into 5 A11\n",
      "Transfer 1.00E+00L from 2 G8 into 5 A11\n",
      "Transfer 1.00E+00L from 3 A4 into 5 A11\n",
      "Transfer 1.00E+01L from 4 A1 into 5 A11\n",
      "Transfer 7.00E+00L from 4 A2 into 5 A11\n",
      "Transfer 1.00E+00L from 1 G6 into 5 A12\n",
      "Transfer 1.00E+00L from 1 G7 into 5 A12\n",
      "Transfer 1.00E+00L from 1 G8 into 5 A12\n",
      "Transfer 1.00E+00L from 1 G9 into 5 A12\n",
      "Transfer 1.00E+00L from 2 B5 into 5 A12\n",
      "Transfer 1.00E+00L from 2 E12 into 5 A12\n",
      "Transfer 1.00E+00L from 2 G9 into 5 A12\n",
      "Transfer 1.00E+00L from 3 A4 into 5 A12\n",
      "Transfer 1.00E+01L from 4 A1 into 5 A12\n",
      "Transfer 7.00E+00L from 4 A2 into 5 A12\n",
      "Transfer 1.00E+00L from 2 A4 into 5 B1\n",
      "Transfer 1.00E+00L from 2 E9 into 5 B1\n",
      "Transfer 1.00E+00L from 2 G6 into 5 B1\n",
      "Transfer 1.00E+00L from 3 A4 into 5 B1\n",
      "Transfer 1.00E+01L from 4 A1 into 5 B1\n",
      "Transfer 7.00E+00L from 4 A2 into 5 B1\n",
      "Transfer 1.00E+00L from 2 A8 into 5 B2\n",
      "Transfer 1.00E+00L from 2 E10 into 5 B2\n",
      "Transfer 1.00E+00L from 2 G7 into 5 B2\n",
      "Transfer 1.00E+00L from 3 A4 into 5 B2\n",
      "Transfer 1.00E+01L from 4 A1 into 5 B2\n",
      "Transfer 7.00E+00L from 4 A2 into 5 B2\n",
      "Transfer 1.00E+00L from 2 A12 into 5 B3\n",
      "Transfer 1.00E+00L from 2 E11 into 5 B3\n",
      "Transfer 1.00E+00L from 2 G8 into 5 B3\n",
      "Transfer 1.00E+00L from 3 A4 into 5 B3\n",
      "Transfer 1.00E+01L from 4 A1 into 5 B3\n",
      "Transfer 7.00E+00L from 4 A2 into 5 B3\n",
      "Transfer 1.00E+00L from 2 B5 into 5 B4\n",
      "Transfer 1.00E+00L from 2 E12 into 5 B4\n",
      "Transfer 1.00E+00L from 2 G9 into 5 B4\n",
      "Transfer 1.00E+00L from 3 A4 into 5 B4\n",
      "Transfer 1.00E+01L from 4 A1 into 5 B4\n",
      "Transfer 7.00E+00L from 4 A2 into 5 B4\n"
     ]
    }
   ],
   "source": [
    "print(Robot_intstructions_test.picklist.to_plain_string())"
   ]
  },
  {
   "attachments": {},
   "cell_type": "markdown",
   "metadata": {
    "id": "528408b0-47ff-4e1b-84b8-1f03057cfaed"
   },
   "source": [
    "## Conclusion\n",
    "\n",
    "1. A combinatorial library was made\n",
    "2. Instructions for Flowbot One was automatically generated for the assembly of the combinatorial library. "
   ]
  }
 ],
 "metadata": {
  "colab": {
   "collapsed_sections": [],
   "include_colab_link": true,
   "provenance": []
  },
  "kernelspec": {
   "display_name": "Python 3 (ipykernel)",
   "language": "python",
   "name": "python3"
  },
  "language_info": {
   "codemirror_mode": {
    "name": "ipython",
    "version": 3
   },
   "file_extension": ".py",
   "mimetype": "text/x-python",
   "name": "python",
   "nbconvert_exporter": "python",
   "pygments_lexer": "ipython3",
   "version": "3.8.13"
  }
 },
 "nbformat": 4,
 "nbformat_minor": 4
}
