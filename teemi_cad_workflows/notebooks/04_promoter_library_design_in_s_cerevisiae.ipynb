{
 "cells": [
  {
   "cell_type": "markdown",
   "id": "95e8c655",
   "metadata": {},
   "source": [
    "# 04 - Promoter Library Design in Saccharomyces cerevisiae"
   ]
  },
  {
   "cell_type": "markdown",
   "id": "de6dcb22",
   "metadata": {},
   "source": [
    "\n",
    "(or your favorite organism)\n",
    "\n",
    "This workflow outlines how to design and construct a promoter library for Saccharomyces cerevisiae (or another model organism). The goal is to integrate fluorescent reporter genes downstream of native promoters to study promoter strength and regulation. The process involves retrieving sequences, designing primers for homology-directed repair (HDR), identifying CRISPR guide RNAs, and simulating genome editing events.\n",
    "\n",
    "### Steps\n",
    "\n",
    "1. Retrieve fluorescent reporter sequences\n",
    "\n",
    "- Select one or more fluorescent proteins to use as reporters, such as YFP, GFP, or RFP.\n",
    "- These will be integrated downstream of your promoters of interest to measure expression.\n",
    "\n",
    "2. Obtain a reference genome\n",
    "- Download the GenBank file for Saccharomyces cerevisiae (or your chosen organism).\n",
    "- This file will provide the genomic coordinates and sequence context for designing HDR templates.\n",
    "\n",
    "3. Design primers for HDR and simulate PCRs\n",
    "\n",
    "- Identify the gene or promoter region to modify.\n",
    "\n",
    "- Design homology arms (~50 bp each) flanking the insertion site.\n",
    "\n",
    "- Create a repair template that integrates the fluorescent protein between the homology arms.\n",
    "\n",
    "- Simulate PCRs to validate expected amplicon sizes and insertion accuracy.\n",
    "\n",
    "\n",
    "\n",
    "4. Find CRISPR crRNA sequences\n",
    "- Identify crRNA (guide RNA) target sites near the promoter or gene of interest.\n",
    "- These guides will induce a double-strand break to promote HDR.\n",
    "(Example: target guides to push the homology repair process.)\n",
    "\n",
    "5. Simulate CRISPR cut and homologous recombination\n",
    "- Model the expected genome edit by simulating both the CRISPR cut and the integration of the repair template through HDR.\n",
    "- Confirm that the fluorescent protein is inserted in-frame and under promoter control.\n",
    "\n",
    "6. Order oligos and constructs\n",
    "- Once all sequences and primers are finalized, order everything from IDT (or another supplier).\n",
    "\n",
    "This includes:\n",
    "\n",
    "- crRNAs\n",
    "\n",
    "- HDR primers\n",
    "\n",
    "- Repair templates containing fluorescent reporter genes"
   ]
  },
  {
   "cell_type": "markdown",
   "id": "0d48fe75",
   "metadata": {},
   "source": []
  }
 ],
 "metadata": {
  "language_info": {
   "name": "python"
  }
 },
 "nbformat": 4,
 "nbformat_minor": 5
}
