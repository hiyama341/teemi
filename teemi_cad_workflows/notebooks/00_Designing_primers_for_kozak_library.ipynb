{
 "cells": [
  {
   "cell_type": "markdown",
   "metadata": {},
   "source": [
    "# Designing Primers for a Kozak sequence library\n"
   ]
  },
  {
   "cell_type": "markdown",
   "metadata": {},
   "source": [
    "<a target=\"_blank\" href=\"https://colab.research.google.com/github/pydna-group/pydna/blob/master/docs/notebooks/Example_generate_designing_primers_for_kozak_library.ipynb\">\n",
    "  <img src=\"https://colab.research.google.com/assets/colab-badge.svg\" alt=\"Open In Colab\"/>\n",
    "</a>"
   ]
  },
  {
   "cell_type": "code",
   "execution_count": null,
   "metadata": {},
   "outputs": [],
   "source": [
    "%%capture\n",
    "# Install pydna (only when running on Colab)\n",
    "import sys\n",
    "if 'google.colab' in sys.modules:\n",
    "    %pip install pydna[clipboard,download,express,gel] teemi"
   ]
  },
  {
   "cell_type": "markdown",
   "metadata": {},
   "source": [
    "> ⚠️ This notebook uses the extra dependency `teemi`. Run it in google Colab, or in an environment where you install `teemi` as well as `pydna`."
   ]
  },
  {
   "cell_type": "markdown",
   "metadata": {},
   "source": [
    "In this notebook we explore the combinatorial space of the most abundant kozak sequences and make repair-primers for the experiments.  We will use pydna to simulate and the CRIPSR experiment and the homology directed repair with the oligoes we make. "
   ]
  },
  {
   "cell_type": "markdown",
   "metadata": {},
   "source": [
    "### About Kozak sequences\n",
    "Kozak sequences are short 5′-end hexamer motifs (often GCC(A/G)CC) flanking the start codon in eukaryotic mRNAs that enhance translation initiation. They are interesting because they help determine how efficiently a gene is translated into protein—strong Kozak motifs boost translation, while weak ones can limit it. This makes them important for gene regulation in biotechnology. In this case imagine we are using K. phaffi or your favourite protein production host. Happy bioengineering"
   ]
  },
  {
   "cell_type": "markdown",
   "metadata": {},
   "source": [
    "### Combinatorial space\n",
    "Now, we want to limit our search space therefore we restrict the compinatorial space to the following combinations which were the most abundant nucleotides in the PWM analysis"
   ]
  },
  {
   "cell_type": "code",
   "execution_count": null,
   "metadata": {},
   "outputs": [],
   "source": [
    "position1 = [\"C\", \"T\", \"A\"]\n",
    "position2 = [\"C\", \"A\", \"G\"]\n",
    "position3 = [ \"A\", \"G\"]\n",
    "position4 = [\"C\", \"T\", \"A\"]\n",
    "position5 = [\"C\", \"G\"]\n",
    "position6 = [\"C\"]\n",
    "\n",
    "nucleotide_list = [position1, position2, position3, position4, position5, position6]"
   ]
  },
  {
   "cell_type": "code",
   "execution_count": null,
   "metadata": {},
   "outputs": [],
   "source": [
    "from teemi.design.combinatorial_design import get_combinatorial_list"
   ]
  },
  {
   "cell_type": "code",
   "execution_count": null,
   "metadata": {},
   "outputs": [
    {
     "name": "stdout",
     "output_type": "stream",
     "text": [
      "108 combinations generated\n"
     ]
    },
    {
     "data": {
      "text/plain": [
       "[('C', 'C', 'A', 'C', 'C', 'C'),\n",
       " ('C', 'C', 'A', 'C', 'G', 'C'),\n",
       " ('C', 'C', 'A', 'T', 'C', 'C'),\n",
       " ('C', 'C', 'A', 'T', 'G', 'C'),\n",
       " ('C', 'C', 'A', 'A', 'C', 'C')]"
      ]
     },
     "execution_count": null,
     "metadata": {},
     "output_type": "execute_result"
    }
   ],
   "source": [
    "# make all combinations\n",
    "kozak = get_combinatorial_list(nucleotide_list)\n",
    "print(f'{len(kozak)} combinations generated')\n",
    "kozak[:5]"
   ]
  },
  {
   "cell_type": "code",
   "execution_count": null,
   "metadata": {},
   "outputs": [
    {
     "data": {
      "text/plain": [
       "['CCACCC', 'CCACGC', 'CCATCC', 'CCATGC', 'CCAACC']"
      ]
     },
     "execution_count": null,
     "metadata": {},
     "output_type": "execute_result"
    }
   ],
   "source": [
    "# Make them into strings\n",
    "def make_to_string(list_of_list):\n",
    "    all_combinations_as_str = []\n",
    "    nuc_seq = ''\n",
    "    for sp in list_of_list: \n",
    "        for seq in sp: \n",
    "            nuc_seq += seq\n",
    "        \n",
    "        all_combinations_as_str.append(nuc_seq)\n",
    "        nuc_seq = ''\n",
    "\n",
    "    return all_combinations_as_str\n",
    "\n",
    "\n",
    "all_combinations_as_str = make_to_string(kozak)\n",
    "all_combinations_as_str[:5]"
   ]
  },
  {
   "cell_type": "markdown",
   "metadata": {},
   "source": [
    "# Making primers for homology directed repair with oligoes"
   ]
  },
  {
   "cell_type": "markdown",
   "metadata": {},
   "source": [
    "This is a dummy example where we wanna test kozak sequences for GFP gene that have been integrated into K. phaffi "
   ]
  },
  {
   "cell_type": "code",
   "execution_count": null,
   "metadata": {},
   "outputs": [
    {
     "name": "stdout",
     "output_type": "stream",
     "text": [
      "Dseqrecord\n",
      "circular: False\n",
      "size: 735\n",
      "ID: LN515608.1\n",
      "Name: LN515608\n",
      "Description: Synthetic construct for Aequorea victoria partial gfp gene for GFP\n",
      "Number of features: 4\n",
      "/molecule_type=DNA\n",
      "/topology=linear\n",
      "/data_file_division=SYN\n",
      "/date=03-MAR-2015\n",
      "/accessions=['LN515608']\n",
      "/sequence_version=1\n",
      "/keywords=['']\n",
      "/source=synthetic construct\n",
      "/organism=synthetic construct\n",
      "/taxonomy=['other sequences', 'artificial sequences']\n",
      "/references=[Reference(title='XerC-mediated DNA inversion at the inverted repeats of the UU172-phase-variable element of Ureaplasma parvum serovar 3', ...), Reference(title='Direct Submission', ...)]\n",
      "Dseq(-735)\n",
      "AGTA..CTAG\n",
      "TCAT..GATC\n"
     ]
    }
   ],
   "source": [
    "from pydna.dseqrecord import Dseqrecord\n",
    "from pydna.crispr import cas9, protospacer\n",
    "from pydna.genbank import Genbank\n",
    "\n",
    "# initalize your favourite gene\n",
    "gb = Genbank(\"myself@email.com\") # Tell Genbank who you are!\n",
    "gene = gb.nucleotide(\"LN515608.1\") # Synthetic construct for Aequorea victoria partial gfp gene for GFP\n",
    "target_dseq = Dseqrecord(gene)\n",
    "print(target_dseq)"
   ]
  },
  {
   "cell_type": "code",
   "execution_count": null,
   "metadata": {},
   "outputs": [
    {
     "data": {
      "text/plain": [
       "Dseqrecord(-1033)"
      ]
     },
     "execution_count": null,
     "metadata": {},
     "output_type": "execute_result"
    }
   ],
   "source": [
    "promoter_region = Dseqrecord('GACGCACCAATCTAGCACAGGCACAGTGTTAACTAGATCTCAACCCTTACCCAAGTCAGAGCCGCAGAGATTGGCAACAAACTCTAGAAACCCGGGGCACGAGGACAATATGAGCTGTGCAGGCTGGTCGAGACTCGTCTAGTTGGTATTACGGTACTAGACGTCGTTGTATCCTTAGGGGACTAGAGTCAGGTAGGTAATAGGGGGTTCCCCTATCTATTATATTTAACTAGTGATACCTTCTCGAACTGTGTGAGCTGCTGCCTCAGCGAATTTCGTTCTGGACCggTACGTGTGT')\n",
    "full_seq = promoter_region + target_dseq\n",
    "full_seq"
   ]
  },
  {
   "cell_type": "markdown",
   "metadata": {},
   "source": [
    "this sgRNA we know works super well from previous experiments"
   ]
  },
  {
   "cell_type": "code",
   "execution_count": null,
   "metadata": {},
   "outputs": [],
   "source": [
    "sgRNA = 'AGCGAATTTCGTTCTGGAC'"
   ]
  },
  {
   "cell_type": "markdown",
   "metadata": {},
   "source": [
    "Let's simulate how it cuts our construct."
   ]
  },
  {
   "cell_type": "code",
   "execution_count": null,
   "metadata": {},
   "outputs": [
    {
     "name": "stdout",
     "output_type": "stream",
     "text": [
      "cutting with guide: (Dseqrecord(-284), Dseqrecord(-749))\n"
     ]
    }
   ],
   "source": [
    "# Choose guides\n",
    "guide =  [\"AGCGAATTTCGTTCTGGAC\"]\n",
    "\n",
    "# Create an enzyme object with the protospacer\n",
    "enzyme = cas9(guide[0])\n",
    "\n",
    "# Simulate the cut with enzyme1\n",
    "print('cutting with guide:', full_seq.cut(enzyme))\n"
   ]
  },
  {
   "cell_type": "markdown",
   "metadata": {},
   "source": [
    "Let's desing the 5 prime and 3 primer end of the repair oligoes."
   ]
  },
  {
   "cell_type": "markdown",
   "metadata": {},
   "source": [
    "We want to keep them at around ~ 60 to make it more affordable to synthesize."
   ]
  },
  {
   "cell_type": "code",
   "execution_count": null,
   "metadata": {},
   "outputs": [
    {
     "name": "stdout",
     "output_type": "stream",
     "text": [
      "Five prime end of the repair oligos is 30 bases\n",
      "Three prime end of the repair oligos is 30 bases\n"
     ]
    }
   ],
   "source": [
    "# This is 6 bases directly upstream of the gene\n",
    "five_prime = promoter_region[-50:-20]\n",
    "\n",
    "# This is directly downstream of the gene \n",
    "three_prime = target_dseq[:30]\n",
    "\n",
    "print(f'Five prime end of the repair oligos is {len(five_prime)} bases')\n",
    "print(f'Three prime end of the repair oligos is {len(three_prime)} bases')"
   ]
  },
  {
   "cell_type": "code",
   "execution_count": null,
   "metadata": {},
   "outputs": [
    {
     "data": {
      "text/html": [
       "<div>\n",
       "<style scoped>\n",
       "    .dataframe tbody tr th:only-of-type {\n",
       "        vertical-align: middle;\n",
       "    }\n",
       "\n",
       "    .dataframe tbody tr th {\n",
       "        vertical-align: top;\n",
       "    }\n",
       "\n",
       "    .dataframe thead th {\n",
       "        text-align: right;\n",
       "    }\n",
       "</style>\n",
       "<table border=\"1\" class=\"dataframe\">\n",
       "  <thead>\n",
       "    <tr style=\"text-align: right;\">\n",
       "      <th></th>\n",
       "      <th>five</th>\n",
       "      <th>kozak</th>\n",
       "      <th>three</th>\n",
       "      <th>primer</th>\n",
       "    </tr>\n",
       "  </thead>\n",
       "  <tbody>\n",
       "    <tr>\n",
       "      <th>0</th>\n",
       "      <td>CTGTGTGAGCTGCTGCCTCAGCGAATTTCG</td>\n",
       "      <td>CCACCC</td>\n",
       "      <td>AGTAAAGGAGAAGAACTTTTCACTGGAGTT</td>\n",
       "      <td>CTGTGTGAGCTGCTGCCTCAGCGAATTTCGCCACCCAGTAAAGGAG...</td>\n",
       "    </tr>\n",
       "    <tr>\n",
       "      <th>1</th>\n",
       "      <td>CTGTGTGAGCTGCTGCCTCAGCGAATTTCG</td>\n",
       "      <td>CCACGC</td>\n",
       "      <td>AGTAAAGGAGAAGAACTTTTCACTGGAGTT</td>\n",
       "      <td>CTGTGTGAGCTGCTGCCTCAGCGAATTTCGCCACGCAGTAAAGGAG...</td>\n",
       "    </tr>\n",
       "    <tr>\n",
       "      <th>2</th>\n",
       "      <td>CTGTGTGAGCTGCTGCCTCAGCGAATTTCG</td>\n",
       "      <td>CCATCC</td>\n",
       "      <td>AGTAAAGGAGAAGAACTTTTCACTGGAGTT</td>\n",
       "      <td>CTGTGTGAGCTGCTGCCTCAGCGAATTTCGCCATCCAGTAAAGGAG...</td>\n",
       "    </tr>\n",
       "    <tr>\n",
       "      <th>3</th>\n",
       "      <td>CTGTGTGAGCTGCTGCCTCAGCGAATTTCG</td>\n",
       "      <td>CCATGC</td>\n",
       "      <td>AGTAAAGGAGAAGAACTTTTCACTGGAGTT</td>\n",
       "      <td>CTGTGTGAGCTGCTGCCTCAGCGAATTTCGCCATGCAGTAAAGGAG...</td>\n",
       "    </tr>\n",
       "    <tr>\n",
       "      <th>4</th>\n",
       "      <td>CTGTGTGAGCTGCTGCCTCAGCGAATTTCG</td>\n",
       "      <td>CCAACC</td>\n",
       "      <td>AGTAAAGGAGAAGAACTTTTCACTGGAGTT</td>\n",
       "      <td>CTGTGTGAGCTGCTGCCTCAGCGAATTTCGCCAACCAGTAAAGGAG...</td>\n",
       "    </tr>\n",
       "    <tr>\n",
       "      <th>...</th>\n",
       "      <td>...</td>\n",
       "      <td>...</td>\n",
       "      <td>...</td>\n",
       "      <td>...</td>\n",
       "    </tr>\n",
       "    <tr>\n",
       "      <th>103</th>\n",
       "      <td>CTGTGTGAGCTGCTGCCTCAGCGAATTTCG</td>\n",
       "      <td>AGGCGC</td>\n",
       "      <td>AGTAAAGGAGAAGAACTTTTCACTGGAGTT</td>\n",
       "      <td>CTGTGTGAGCTGCTGCCTCAGCGAATTTCGAGGCGCAGTAAAGGAG...</td>\n",
       "    </tr>\n",
       "    <tr>\n",
       "      <th>104</th>\n",
       "      <td>CTGTGTGAGCTGCTGCCTCAGCGAATTTCG</td>\n",
       "      <td>AGGTCC</td>\n",
       "      <td>AGTAAAGGAGAAGAACTTTTCACTGGAGTT</td>\n",
       "      <td>CTGTGTGAGCTGCTGCCTCAGCGAATTTCGAGGTCCAGTAAAGGAG...</td>\n",
       "    </tr>\n",
       "    <tr>\n",
       "      <th>105</th>\n",
       "      <td>CTGTGTGAGCTGCTGCCTCAGCGAATTTCG</td>\n",
       "      <td>AGGTGC</td>\n",
       "      <td>AGTAAAGGAGAAGAACTTTTCACTGGAGTT</td>\n",
       "      <td>CTGTGTGAGCTGCTGCCTCAGCGAATTTCGAGGTGCAGTAAAGGAG...</td>\n",
       "    </tr>\n",
       "    <tr>\n",
       "      <th>106</th>\n",
       "      <td>CTGTGTGAGCTGCTGCCTCAGCGAATTTCG</td>\n",
       "      <td>AGGACC</td>\n",
       "      <td>AGTAAAGGAGAAGAACTTTTCACTGGAGTT</td>\n",
       "      <td>CTGTGTGAGCTGCTGCCTCAGCGAATTTCGAGGACCAGTAAAGGAG...</td>\n",
       "    </tr>\n",
       "    <tr>\n",
       "      <th>107</th>\n",
       "      <td>CTGTGTGAGCTGCTGCCTCAGCGAATTTCG</td>\n",
       "      <td>AGGAGC</td>\n",
       "      <td>AGTAAAGGAGAAGAACTTTTCACTGGAGTT</td>\n",
       "      <td>CTGTGTGAGCTGCTGCCTCAGCGAATTTCGAGGAGCAGTAAAGGAG...</td>\n",
       "    </tr>\n",
       "  </tbody>\n",
       "</table>\n",
       "<p>108 rows × 4 columns</p>\n",
       "</div>"
      ],
      "text/plain": [
       "                               five   kozak                           three  \\\n",
       "0    CTGTGTGAGCTGCTGCCTCAGCGAATTTCG  CCACCC  AGTAAAGGAGAAGAACTTTTCACTGGAGTT   \n",
       "1    CTGTGTGAGCTGCTGCCTCAGCGAATTTCG  CCACGC  AGTAAAGGAGAAGAACTTTTCACTGGAGTT   \n",
       "2    CTGTGTGAGCTGCTGCCTCAGCGAATTTCG  CCATCC  AGTAAAGGAGAAGAACTTTTCACTGGAGTT   \n",
       "3    CTGTGTGAGCTGCTGCCTCAGCGAATTTCG  CCATGC  AGTAAAGGAGAAGAACTTTTCACTGGAGTT   \n",
       "4    CTGTGTGAGCTGCTGCCTCAGCGAATTTCG  CCAACC  AGTAAAGGAGAAGAACTTTTCACTGGAGTT   \n",
       "..                              ...     ...                             ...   \n",
       "103  CTGTGTGAGCTGCTGCCTCAGCGAATTTCG  AGGCGC  AGTAAAGGAGAAGAACTTTTCACTGGAGTT   \n",
       "104  CTGTGTGAGCTGCTGCCTCAGCGAATTTCG  AGGTCC  AGTAAAGGAGAAGAACTTTTCACTGGAGTT   \n",
       "105  CTGTGTGAGCTGCTGCCTCAGCGAATTTCG  AGGTGC  AGTAAAGGAGAAGAACTTTTCACTGGAGTT   \n",
       "106  CTGTGTGAGCTGCTGCCTCAGCGAATTTCG  AGGACC  AGTAAAGGAGAAGAACTTTTCACTGGAGTT   \n",
       "107  CTGTGTGAGCTGCTGCCTCAGCGAATTTCG  AGGAGC  AGTAAAGGAGAAGAACTTTTCACTGGAGTT   \n",
       "\n",
       "                                                primer  \n",
       "0    CTGTGTGAGCTGCTGCCTCAGCGAATTTCGCCACCCAGTAAAGGAG...  \n",
       "1    CTGTGTGAGCTGCTGCCTCAGCGAATTTCGCCACGCAGTAAAGGAG...  \n",
       "2    CTGTGTGAGCTGCTGCCTCAGCGAATTTCGCCATCCAGTAAAGGAG...  \n",
       "3    CTGTGTGAGCTGCTGCCTCAGCGAATTTCGCCATGCAGTAAAGGAG...  \n",
       "4    CTGTGTGAGCTGCTGCCTCAGCGAATTTCGCCAACCAGTAAAGGAG...  \n",
       "..                                                 ...  \n",
       "103  CTGTGTGAGCTGCTGCCTCAGCGAATTTCGAGGCGCAGTAAAGGAG...  \n",
       "104  CTGTGTGAGCTGCTGCCTCAGCGAATTTCGAGGTCCAGTAAAGGAG...  \n",
       "105  CTGTGTGAGCTGCTGCCTCAGCGAATTTCGAGGTGCAGTAAAGGAG...  \n",
       "106  CTGTGTGAGCTGCTGCCTCAGCGAATTTCGAGGACCAGTAAAGGAG...  \n",
       "107  CTGTGTGAGCTGCTGCCTCAGCGAATTTCGAGGAGCAGTAAAGGAG...  \n",
       "\n",
       "[108 rows x 4 columns]"
      ]
     },
     "execution_count": null,
     "metadata": {},
     "output_type": "execute_result"
    }
   ],
   "source": [
    "# Making these into a list\n",
    "five_prime_list = [[str(five_prime.seq)]] * len(all_combinations_as_str)\n",
    "three_prime_list = [str(three_prime.seq)] * len(all_combinations_as_str)\n",
    "\n",
    "# to string\n",
    "five_prime_list = make_to_string(five_prime_list)\n",
    "three_prime_list = make_to_string(three_prime_list) \n",
    "\n",
    "# making a dataframe\n",
    "import pandas as pd\n",
    "my_dict = {'five':five_prime_list, \"kozak\":all_combinations_as_str, \"three\":three_prime_list}\n",
    "kozak_df = pd.DataFrame(my_dict) \n",
    "kozak_df['primer'] = kozak_df['five'] + kozak_df['kozak'] + kozak_df['three']\n",
    "kozak_df"
   ]
  },
  {
   "cell_type": "code",
   "execution_count": null,
   "metadata": {},
   "outputs": [],
   "source": [
    "from Bio.Seq import Seq\n",
    "# making them into pydna Dseqrecord\n",
    "oligos = []\n",
    "for i, row in kozak_df.iterrows():\n",
    "    repair_oligo = Dseqrecord(\n",
    "        Seq(row['primer']),\n",
    "        id=f\"kozak_repair_oligo_{i+1}\",\n",
    "        name=f\"Repair oligo {i+1} for kozak experiment\",\n",
    "        description=\"Designed repair oligo from DataFrame\"\n",
    "    )\n",
    "    oligos.append(repair_oligo)"
   ]
  },
  {
   "cell_type": "code",
   "execution_count": null,
   "metadata": {},
   "outputs": [
    {
     "name": "stdout",
     "output_type": "stream",
     "text": [
      "Repair oligo 1 for kozak experiment : CTGTGTGAGCTGCTGCCTCAGCGAATTTCGAGGAGCAGTAAAGGAGAAGAACTTTTCACTGGAGTT \n",
      "Repair oligo 1 for kozak experiment length : 66 \n"
     ]
    }
   ],
   "source": [
    "print(f'{oligos[0].name} : {repair_oligo.seq} ')\n",
    "print(f'{oligos[0].name} length : {len(repair_oligo.seq)} ')"
   ]
  },
  {
   "cell_type": "code",
   "execution_count": null,
   "metadata": {},
   "outputs": [
    {
     "name": "stdout",
     "output_type": "stream",
     "text": [
      "Dseqrecord\n",
      "circular: False\n",
      "size: 1019\n",
      "ID: id\n",
      "Name: name\n",
      "Description: description\n",
      "Number of features: 4\n",
      "/molecule_type=DNA\n",
      "Dseq(-1019)\n",
      "GACG..CTAG\n",
      "CTGC..GATC\n"
     ]
    }
   ],
   "source": [
    "from pydna.assembly2 import in_vivo_assembly\n",
    "\n",
    "# Example: Loop through all repair oligos and assemble each with full_sequence\n",
    "assembled_KOs = []\n",
    "\n",
    "for i, repair_oligo in enumerate(oligos, 1):\n",
    "    products = in_vivo_assembly((full_seq.cut(enzyme)[0], repair_oligo, full_seq.cut(enzyme)[1]), limit=30)\n",
    "    assembled_KOs.append(products[0])\n",
    "\n",
    "# Now assembled_KOs contains all your assemblies\n",
    "for p in products:\n",
    "    print(p)"
   ]
  },
  {
   "cell_type": "markdown",
   "metadata": {},
   "source": [
    "# They seem to repair as expected - so lets buy them from IDT\n"
   ]
  },
  {
   "cell_type": "code",
   "execution_count": null,
   "metadata": {},
   "outputs": [
    {
     "data": {
      "text/html": [
       "<div>\n",
       "<style scoped>\n",
       "    .dataframe tbody tr th:only-of-type {\n",
       "        vertical-align: middle;\n",
       "    }\n",
       "\n",
       "    .dataframe tbody tr th {\n",
       "        vertical-align: top;\n",
       "    }\n",
       "\n",
       "    .dataframe thead th {\n",
       "        text-align: right;\n",
       "    }\n",
       "</style>\n",
       "<table border=\"1\" class=\"dataframe\">\n",
       "  <thead>\n",
       "    <tr style=\"text-align: right;\">\n",
       "      <th></th>\n",
       "      <th>Oligo Name</th>\n",
       "      <th>Sequence</th>\n",
       "      <th>Scale</th>\n",
       "      <th>Purification</th>\n",
       "    </tr>\n",
       "  </thead>\n",
       "  <tbody>\n",
       "    <tr>\n",
       "      <th>0</th>\n",
       "      <td>kozak_repair_oligo_1</td>\n",
       "      <td>CTGTGTGAGCTGCTGCCTCAGCGAATTTCGCCACCCAGTAAAGGAG...</td>\n",
       "      <td>25nm</td>\n",
       "      <td>STD</td>\n",
       "    </tr>\n",
       "    <tr>\n",
       "      <th>1</th>\n",
       "      <td>kozak_repair_oligo_2</td>\n",
       "      <td>CTGTGTGAGCTGCTGCCTCAGCGAATTTCGCCACGCAGTAAAGGAG...</td>\n",
       "      <td>25nm</td>\n",
       "      <td>STD</td>\n",
       "    </tr>\n",
       "    <tr>\n",
       "      <th>2</th>\n",
       "      <td>kozak_repair_oligo_3</td>\n",
       "      <td>CTGTGTGAGCTGCTGCCTCAGCGAATTTCGCCATCCAGTAAAGGAG...</td>\n",
       "      <td>25nm</td>\n",
       "      <td>STD</td>\n",
       "    </tr>\n",
       "    <tr>\n",
       "      <th>3</th>\n",
       "      <td>kozak_repair_oligo_4</td>\n",
       "      <td>CTGTGTGAGCTGCTGCCTCAGCGAATTTCGCCATGCAGTAAAGGAG...</td>\n",
       "      <td>25nm</td>\n",
       "      <td>STD</td>\n",
       "    </tr>\n",
       "    <tr>\n",
       "      <th>4</th>\n",
       "      <td>kozak_repair_oligo_5</td>\n",
       "      <td>CTGTGTGAGCTGCTGCCTCAGCGAATTTCGCCAACCAGTAAAGGAG...</td>\n",
       "      <td>25nm</td>\n",
       "      <td>STD</td>\n",
       "    </tr>\n",
       "    <tr>\n",
       "      <th>...</th>\n",
       "      <td>...</td>\n",
       "      <td>...</td>\n",
       "      <td>...</td>\n",
       "      <td>...</td>\n",
       "    </tr>\n",
       "    <tr>\n",
       "      <th>103</th>\n",
       "      <td>kozak_repair_oligo_104</td>\n",
       "      <td>CTGTGTGAGCTGCTGCCTCAGCGAATTTCGAGGCGCAGTAAAGGAG...</td>\n",
       "      <td>25nm</td>\n",
       "      <td>STD</td>\n",
       "    </tr>\n",
       "    <tr>\n",
       "      <th>104</th>\n",
       "      <td>kozak_repair_oligo_105</td>\n",
       "      <td>CTGTGTGAGCTGCTGCCTCAGCGAATTTCGAGGTCCAGTAAAGGAG...</td>\n",
       "      <td>25nm</td>\n",
       "      <td>STD</td>\n",
       "    </tr>\n",
       "    <tr>\n",
       "      <th>105</th>\n",
       "      <td>kozak_repair_oligo_106</td>\n",
       "      <td>CTGTGTGAGCTGCTGCCTCAGCGAATTTCGAGGTGCAGTAAAGGAG...</td>\n",
       "      <td>25nm</td>\n",
       "      <td>STD</td>\n",
       "    </tr>\n",
       "    <tr>\n",
       "      <th>106</th>\n",
       "      <td>kozak_repair_oligo_107</td>\n",
       "      <td>CTGTGTGAGCTGCTGCCTCAGCGAATTTCGAGGACCAGTAAAGGAG...</td>\n",
       "      <td>25nm</td>\n",
       "      <td>STD</td>\n",
       "    </tr>\n",
       "    <tr>\n",
       "      <th>107</th>\n",
       "      <td>kozak_repair_oligo_108</td>\n",
       "      <td>CTGTGTGAGCTGCTGCCTCAGCGAATTTCGAGGAGCAGTAAAGGAG...</td>\n",
       "      <td>25nm</td>\n",
       "      <td>STD</td>\n",
       "    </tr>\n",
       "  </tbody>\n",
       "</table>\n",
       "<p>108 rows × 4 columns</p>\n",
       "</div>"
      ],
      "text/plain": [
       "                 Oligo Name  \\\n",
       "0      kozak_repair_oligo_1   \n",
       "1      kozak_repair_oligo_2   \n",
       "2      kozak_repair_oligo_3   \n",
       "3      kozak_repair_oligo_4   \n",
       "4      kozak_repair_oligo_5   \n",
       "..                      ...   \n",
       "103  kozak_repair_oligo_104   \n",
       "104  kozak_repair_oligo_105   \n",
       "105  kozak_repair_oligo_106   \n",
       "106  kozak_repair_oligo_107   \n",
       "107  kozak_repair_oligo_108   \n",
       "\n",
       "                                              Sequence Scale Purification  \n",
       "0    CTGTGTGAGCTGCTGCCTCAGCGAATTTCGCCACCCAGTAAAGGAG...  25nm          STD  \n",
       "1    CTGTGTGAGCTGCTGCCTCAGCGAATTTCGCCACGCAGTAAAGGAG...  25nm          STD  \n",
       "2    CTGTGTGAGCTGCTGCCTCAGCGAATTTCGCCATCCAGTAAAGGAG...  25nm          STD  \n",
       "3    CTGTGTGAGCTGCTGCCTCAGCGAATTTCGCCATGCAGTAAAGGAG...  25nm          STD  \n",
       "4    CTGTGTGAGCTGCTGCCTCAGCGAATTTCGCCAACCAGTAAAGGAG...  25nm          STD  \n",
       "..                                                 ...   ...          ...  \n",
       "103  CTGTGTGAGCTGCTGCCTCAGCGAATTTCGAGGCGCAGTAAAGGAG...  25nm          STD  \n",
       "104  CTGTGTGAGCTGCTGCCTCAGCGAATTTCGAGGTCCAGTAAAGGAG...  25nm          STD  \n",
       "105  CTGTGTGAGCTGCTGCCTCAGCGAATTTCGAGGTGCAGTAAAGGAG...  25nm          STD  \n",
       "106  CTGTGTGAGCTGCTGCCTCAGCGAATTTCGAGGACCAGTAAAGGAG...  25nm          STD  \n",
       "107  CTGTGTGAGCTGCTGCCTCAGCGAATTTCGAGGAGCAGTAAAGGAG...  25nm          STD  \n",
       "\n",
       "[108 rows x 4 columns]"
      ]
     },
     "execution_count": null,
     "metadata": {},
     "output_type": "execute_result"
    }
   ],
   "source": [
    "oligo_data = []\n",
    "for oligo in oligos:\n",
    "    oligo_data.append({\n",
    "        \"Oligo Name\": oligo.id,\n",
    "        \"Sequence\": str(oligo.seq),\n",
    "        # Optional IDT columns (set your preferred defaults)\n",
    "        \"Scale\": \"25nm\",\n",
    "        \"Purification\": \"STD\"\n",
    "    })\n",
    "\n",
    "idt_df = pd.DataFrame(oligo_data)\n",
    "idt_df"
   ]
  }
 ],
 "metadata": {
  "kernelspec": {
   "display_name": ".venv",
   "language": "python",
   "name": "python3"
  },
  "language_info": {
   "codemirror_mode": {
    "name": "ipython",
    "version": 3
   },
   "file_extension": ".py",
   "mimetype": "text/x-python",
   "name": "python",
   "nbconvert_exporter": "python",
   "pygments_lexer": "ipython3",
   "version": "3.12.11"
  }
 },
 "nbformat": 4,
 "nbformat_minor": 2
}
