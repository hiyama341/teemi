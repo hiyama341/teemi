{
 "cells": [
  {
   "cell_type": "markdown",
   "id": "89a92877",
   "metadata": {},
   "source": [
    "# 03 Investigate Plastic-Degrading Enzymes with pydna"
   ]
  },
  {
   "cell_type": "markdown",
   "id": "56cf4623",
   "metadata": {},
   "source": [
    "\n",
    "This workflow outlines how to identify, assemble, and test a library of plastic-degrading enzymes using PyDNA for design and simulation. The process involves retrieving enzyme homologs, selecting expression systems and genetic parts, designing primers for assembly, and simulating CRISPR-based integration. The goal is to enable efficient screening of enzyme variants for improved plastic degradation activity.\n",
    "\n",
    "### Steps\n",
    "\n",
    "1. Retrieve homolog sequences\n",
    "\n",
    "Collect approximately 1,000 homologs of the target plastic-degrading enzyme (enzyme X) from public databases such as NCBI or UniProt.\n",
    "\n",
    "2. Export sequences in FASTA or GenBank format.\n",
    "\n",
    "These homologs will serve as candidates for cloning and testing.\n",
    "\n",
    "3. Choose an expression host\n",
    "\n",
    "Select a suitable organism for heterologous expression, for example Pichia pastoris - or something that works with your chosen enzymes. Could also consider multiple hosts.\n",
    "\n",
    "Consider factors such as secretion efficiency, post-translational modifications, and ease of cloning.\n",
    "\n",
    "4. Select genetic parts\n",
    "\n",
    "Define standardized genetic components for expression:\n",
    "\n",
    "- Promoters\n",
    "\n",
    "- Terminators\n",
    "\n",
    "- Signal peptides\n",
    "\n",
    "- Tags (e.g., His-tag, FLAG-tag)\n",
    "- These will form modular expression constructs for each enzyme candidate.\n",
    "\n",
    "5. Simulate CRISPR-mediated integration\n",
    "\n",
    "Model the insertion of enzyme genes into the host genome using CRISPR-based editing.\n",
    "\n",
    "Simulate integration of enzymes and genetic parts into the host vector or locus of interest.\n",
    "\n",
    "Use pydna to validate assembly structure and expected recombination events.\n",
    "\n",
    "6. Design primers for one-pot assembly\n",
    "\n",
    "Design primers to assemble all components (enzyme + expression parts) in a single reaction.\n",
    "\n",
    "Keep some primers standardized across constructs to streamline cloning.\n",
    "\n",
    "7. Simulate the PCRs to confirm expected amplicons and overlaps.\n",
    "\n",
    "8. Order constructs and primers\n",
    "\n",
    "\n",
    "Once design and validation are complete, order all oligos, gene fragments, and plasmids from your preferred supplier (e.g., IDT)."
   ]
  },
  {
   "cell_type": "markdown",
   "id": "b5dfc7fa",
   "metadata": {},
   "source": []
  }
 ],
 "metadata": {
  "language_info": {
   "name": "python"
  }
 },
 "nbformat": 4,
 "nbformat_minor": 5
}
